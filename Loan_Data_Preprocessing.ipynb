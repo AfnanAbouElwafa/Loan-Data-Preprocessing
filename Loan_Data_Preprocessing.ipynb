{
  "nbformat": 4,
  "nbformat_minor": 0,
  "metadata": {
    "colab": {
      "provenance": []
    },
    "kernelspec": {
      "name": "python3",
      "display_name": "Python 3"
    },
    "language_info": {
      "name": "python"
    }
  },
  "cells": [
    {
      "cell_type": "code",
      "execution_count": 118,
      "metadata": {
        "id": "hzTcMBv4nEXz"
      },
      "outputs": [],
      "source": [
        "import numpy as np"
      ]
    },
    {
      "cell_type": "code",
      "source": [
        "np.set_printoptions(precision=2,linewidth=100,suppress=True)"
      ],
      "metadata": {
        "id": "igBj1Gv8oIV0"
      },
      "execution_count": 119,
      "outputs": []
    },
    {
      "cell_type": "markdown",
      "source": [
        "#**Load Data**"
      ],
      "metadata": {
        "id": "UK_U1f-jnbNy"
      }
    },
    {
      "cell_type": "code",
      "source": [
        "raw_data = np.genfromtxt(\"/content/loan-data.csv\", delimiter=';', skip_header=1, autostrip=True,\n",
        "                         encoding = \"cp855\")\n",
        "\n",
        "raw_data"
      ],
      "metadata": {
        "colab": {
          "base_uri": "https://localhost:8080/"
        },
        "id": "nBEE4EMuneGh",
        "outputId": "f746688e-f62f-4ee8-afc8-abf19794da8d"
      },
      "execution_count": 120,
      "outputs": [
        {
          "output_type": "execute_result",
          "data": {
            "text/plain": [
              "array([[48010226.  ,         nan,    35000.  , ...,         nan,         nan,     9452.96],\n",
              "       [57693261.  ,         nan,    30000.  , ...,         nan,         nan,     4679.7 ],\n",
              "       [59432726.  ,         nan,    15000.  , ...,         nan,         nan,     1969.83],\n",
              "       ...,\n",
              "       [50415990.  ,         nan,    10000.  , ...,         nan,         nan,     2185.64],\n",
              "       [46154151.  ,         nan,         nan, ...,         nan,         nan,     3199.4 ],\n",
              "       [66055249.  ,         nan,    10000.  , ...,         nan,         nan,      301.9 ]])"
            ]
          },
          "metadata": {},
          "execution_count": 120
        }
      ]
    },
    {
      "cell_type": "markdown",
      "source": [
        "#**Checking for missing values**"
      ],
      "metadata": {
        "id": "Ddi8jTWQquKH"
      }
    },
    {
      "cell_type": "code",
      "source": [
        "np.isnan(raw_data).sum()"
      ],
      "metadata": {
        "colab": {
          "base_uri": "https://localhost:8080/"
        },
        "id": "5J9-7bD-qyld",
        "outputId": "69e45626-b1d0-4533-dd76-9e15cf1f1d0c"
      },
      "execution_count": 121,
      "outputs": [
        {
          "output_type": "execute_result",
          "data": {
            "text/plain": [
              "88005"
            ]
          },
          "metadata": {},
          "execution_count": 121
        }
      ]
    },
    {
      "cell_type": "code",
      "source": [
        "temp_fill = np.nanmax(raw_data) + 1\n",
        "# mean for each col\n",
        "temp_mean = np.nanmean(raw_data, axis=0)"
      ],
      "metadata": {
        "colab": {
          "base_uri": "https://localhost:8080/"
        },
        "id": "RWxDWHQ5rE2z",
        "outputId": "afd4d1f6-14be-4364-eddb-79d99b170b0c"
      },
      "execution_count": 122,
      "outputs": [
        {
          "output_type": "stream",
          "name": "stderr",
          "text": [
            "<ipython-input-122-131581a62730>:3: RuntimeWarning: Mean of empty slice\n",
            "  temp_mean = np.nanmean(raw_data, axis=0)\n"
          ]
        }
      ]
    },
    {
      "cell_type": "code",
      "source": [
        "temp_mean"
      ],
      "metadata": {
        "colab": {
          "base_uri": "https://localhost:8080/"
        },
        "id": "wgGuDIO2rw9a",
        "outputId": "72d4ee9d-cccd-43ee-efa3-059aa36dad75"
      },
      "execution_count": 123,
      "outputs": [
        {
          "output_type": "execute_result",
          "data": {
            "text/plain": [
              "array([54015809.19,         nan,    15273.46,         nan,    15311.04,         nan,       16.62,\n",
              "            440.92,         nan,         nan,         nan,         nan,         nan,     3143.85])"
            ]
          },
          "metadata": {},
          "execution_count": 123
        }
      ]
    },
    {
      "cell_type": "markdown",
      "source": [
        "**Stats for each column**"
      ],
      "metadata": {
        "id": "UbwKbX1dsvm1"
      }
    },
    {
      "cell_type": "code",
      "source": [
        "temp_stats = np.array([np.nanmin(raw_data,axis=0),\n",
        "                      temp_mean,\n",
        "                      np.nanmax(raw_data,axis=0)])"
      ],
      "metadata": {
        "colab": {
          "base_uri": "https://localhost:8080/"
        },
        "id": "jCNzC5N7sKxR",
        "outputId": "19711442-7f7c-47aa-c3b6-0d09acf82c95"
      },
      "execution_count": 124,
      "outputs": [
        {
          "output_type": "stream",
          "name": "stderr",
          "text": [
            "<ipython-input-124-c01efb3a0b60>:1: RuntimeWarning: All-NaN slice encountered\n",
            "  temp_stats = np.array([np.nanmin(raw_data,axis=0),\n",
            "<ipython-input-124-c01efb3a0b60>:3: RuntimeWarning: All-NaN slice encountered\n",
            "  np.nanmax(raw_data,axis=0)])\n"
          ]
        }
      ]
    },
    {
      "cell_type": "code",
      "source": [
        "temp_stats"
      ],
      "metadata": {
        "colab": {
          "base_uri": "https://localhost:8080/"
        },
        "id": "XCbN3-eBszIH",
        "outputId": "d2f1dce8-5dd6-4b54-8f2c-ecbeb59efbd2"
      },
      "execution_count": 125,
      "outputs": [
        {
          "output_type": "execute_result",
          "data": {
            "text/plain": [
              "array([[  373332.  ,         nan,     1000.  ,         nan,     1000.  ,         nan,        6.  ,\n",
              "              31.42,         nan,         nan,         nan,         nan,         nan,        0.  ],\n",
              "       [54015809.19,         nan,    15273.46,         nan,    15311.04,         nan,       16.62,\n",
              "             440.92,         nan,         nan,         nan,         nan,         nan,     3143.85],\n",
              "       [68616519.  ,         nan,    35000.  ,         nan,    35000.  ,         nan,       28.99,\n",
              "            1372.97,         nan,         nan,         nan,         nan,         nan,    41913.62]])"
            ]
          },
          "metadata": {},
          "execution_count": 125
        }
      ]
    },
    {
      "cell_type": "markdown",
      "source": [
        "#**Splitting the dataset into numerical & string data**"
      ],
      "metadata": {
        "id": "JJ7lB82JtG63"
      }
    },
    {
      "cell_type": "code",
      "source": [
        "col_strings = np.argwhere(np.isnan(temp_mean)).squeeze()\n",
        "col_strings"
      ],
      "metadata": {
        "colab": {
          "base_uri": "https://localhost:8080/"
        },
        "id": "yzNttEhDtNeH",
        "outputId": "55c2aace-193a-413c-9bc7-ec1ef62ee952"
      },
      "execution_count": 126,
      "outputs": [
        {
          "output_type": "execute_result",
          "data": {
            "text/plain": [
              "array([ 1,  3,  5,  8,  9, 10, 11, 12])"
            ]
          },
          "metadata": {},
          "execution_count": 126
        }
      ]
    },
    {
      "cell_type": "code",
      "source": [
        "col_numeric = np.argwhere(np.isnan(temp_mean) == False).squeeze()\n",
        "col_numeric"
      ],
      "metadata": {
        "colab": {
          "base_uri": "https://localhost:8080/"
        },
        "id": "PEqHFIQeuH2Q",
        "outputId": "4e600640-2080-4f97-d7ca-7a59db5c79b1"
      },
      "execution_count": 127,
      "outputs": [
        {
          "output_type": "execute_result",
          "data": {
            "text/plain": [
              "array([ 0,  2,  4,  6,  7, 13])"
            ]
          },
          "metadata": {},
          "execution_count": 127
        }
      ]
    },
    {
      "cell_type": "markdown",
      "source": [
        "**Re-importing the datase**"
      ],
      "metadata": {
        "id": "RihNg_ylun_0"
      }
    },
    {
      "cell_type": "code",
      "source": [
        "data_string = np.genfromtxt(\"/content/loan-data.csv\",\n",
        "                            delimiter=';',\n",
        "                            skip_header=1,\n",
        "                            autostrip=True,\n",
        "                            encoding = \"cp855\",\n",
        "                            usecols=col_strings,\n",
        "                            dtype=str)\n",
        "data_string"
      ],
      "metadata": {
        "colab": {
          "base_uri": "https://localhost:8080/"
        },
        "id": "JHAsckI5uhWo",
        "outputId": "be2dbab5-ec73-4910-b840-e1919a073f29"
      },
      "execution_count": 128,
      "outputs": [
        {
          "output_type": "execute_result",
          "data": {
            "text/plain": [
              "array([['May-15', 'Current', '36 months', ..., 'Verified',\n",
              "        'https://www.lendingclub.com/browse/loanDetail.action?loan_id=48010226', 'CA'],\n",
              "       ['', 'Current', '36 months', ..., 'Source Verified',\n",
              "        'https://www.lendingclub.com/browse/loanDetail.action?loan_id=57693261', 'NY'],\n",
              "       ['Sep-15', 'Current', '36 months', ..., 'Verified',\n",
              "        'https://www.lendingclub.com/browse/loanDetail.action?loan_id=59432726', 'PA'],\n",
              "       ...,\n",
              "       ['Jun-15', 'Current', '36 months', ..., 'Source Verified',\n",
              "        'https://www.lendingclub.com/browse/loanDetail.action?loan_id=50415990', 'CA'],\n",
              "       ['Apr-15', 'Current', '36 months', ..., 'Source Verified',\n",
              "        'https://www.lendingclub.com/browse/loanDetail.action?loan_id=46154151', 'OH'],\n",
              "       ['Dec-15', 'Current', '36 months', ..., '',\n",
              "        'https://www.lendingclub.com/browse/loanDetail.action?loan_id=66055249', 'IL']],\n",
              "      dtype='<U69')"
            ]
          },
          "metadata": {},
          "execution_count": 128
        }
      ]
    },
    {
      "cell_type": "code",
      "source": [
        "data_numeric = np.genfromtxt(\"/content/loan-data.csv\",\n",
        "                            delimiter=';',\n",
        "                            skip_header=1,\n",
        "                            autostrip=True,\n",
        "                            encoding = \"cp855\",\n",
        "                            usecols=col_numeric,\n",
        "                            filling_values=temp_fill)\n",
        "data_numeric"
      ],
      "metadata": {
        "colab": {
          "base_uri": "https://localhost:8080/"
        },
        "id": "b5H_WUf2umE_",
        "outputId": "d7628e8b-a36b-4390-ea1b-46551c9dae0a"
      },
      "execution_count": 129,
      "outputs": [
        {
          "output_type": "execute_result",
          "data": {
            "text/plain": [
              "array([[48010226.  ,    35000.  ,    35000.  ,       13.33,     1184.86,     9452.96],\n",
              "       [57693261.  ,    30000.  ,    30000.  , 68616520.  ,      938.57,     4679.7 ],\n",
              "       [59432726.  ,    15000.  ,    15000.  , 68616520.  ,      494.86,     1969.83],\n",
              "       ...,\n",
              "       [50415990.  ,    10000.  ,    10000.  , 68616520.  , 68616520.  ,     2185.64],\n",
              "       [46154151.  , 68616520.  ,    10000.  ,       16.55,      354.3 ,     3199.4 ],\n",
              "       [66055249.  ,    10000.  ,    10000.  , 68616520.  ,      309.97,      301.9 ]])"
            ]
          },
          "metadata": {},
          "execution_count": 129
        }
      ]
    },
    {
      "cell_type": "markdown",
      "source": [
        "**The names of the columns**"
      ],
      "metadata": {
        "id": "MG27ng2Ov5IO"
      }
    },
    {
      "cell_type": "code",
      "source": [
        "header = np.genfromtxt(\"/content/loan-data.csv\",\n",
        "                            delimiter=';',\n",
        "                            skip_footer=raw_data.shape[0],\n",
        "                            autostrip=True,\n",
        "                            encoding = \"cp855\",\n",
        "                            dtype=str)\n",
        "header"
      ],
      "metadata": {
        "colab": {
          "base_uri": "https://localhost:8080/"
        },
        "id": "jKQq_hPkv8rK",
        "outputId": "3c84596a-afb9-4b34-a9fa-d4296e3d0180"
      },
      "execution_count": 130,
      "outputs": [
        {
          "output_type": "execute_result",
          "data": {
            "text/plain": [
              "array(['id', 'issue_d', 'loan_amnt', 'loan_status', 'funded_amnt', 'term', 'int_rate',\n",
              "       'installment', 'grade', 'sub_grade', 'verification_status', 'url', 'addr_state',\n",
              "       'total_pymnt'], dtype='<U19')"
            ]
          },
          "metadata": {},
          "execution_count": 130
        }
      ]
    },
    {
      "cell_type": "code",
      "source": [
        "header_string, header_numeric = header[col_strings], header[col_numeric]\n",
        "print(header_string)\n",
        "print(header_numeric)"
      ],
      "metadata": {
        "colab": {
          "base_uri": "https://localhost:8080/"
        },
        "id": "pGrssLaPwiPD",
        "outputId": "74e5e4af-5ffa-4100-d5e3-acf8c55f18ef"
      },
      "execution_count": 131,
      "outputs": [
        {
          "output_type": "stream",
          "name": "stdout",
          "text": [
            "['issue_d' 'loan_status' 'term' 'grade' 'sub_grade' 'verification_status' 'url' 'addr_state']\n",
            "['id' 'loan_amnt' 'funded_amnt' 'int_rate' 'installment' 'total_pymnt']\n"
          ]
        }
      ]
    },
    {
      "cell_type": "markdown",
      "source": [
        "#**Creating check points**"
      ],
      "metadata": {
        "id": "UqTtKfcvxJ5-"
      }
    },
    {
      "cell_type": "code",
      "source": [
        "def checkpoint(file_name, cp_header, cp_data):\n",
        "  np.savez(file_name,header=cp_header, data=cp_data)\n",
        "  cp_variable = np.load(file_name+\".npz\")\n",
        "  return (cp_variable)"
      ],
      "metadata": {
        "id": "PElQPWzAxNgm"
      },
      "execution_count": 132,
      "outputs": []
    },
    {
      "cell_type": "code",
      "source": [
        "cp_test = checkpoint(\"checkpoint-data\", header_string, data_string)"
      ],
      "metadata": {
        "id": "D5sVT-xPJMUQ"
      },
      "execution_count": 133,
      "outputs": []
    },
    {
      "cell_type": "code",
      "source": [
        "cp_test['header']"
      ],
      "metadata": {
        "colab": {
          "base_uri": "https://localhost:8080/"
        },
        "id": "K4Ur1F7VJidl",
        "outputId": "199d6719-65a1-47e9-882c-999fbe7b8d16"
      },
      "execution_count": 134,
      "outputs": [
        {
          "output_type": "execute_result",
          "data": {
            "text/plain": [
              "array(['issue_d', 'loan_status', 'term', 'grade', 'sub_grade', 'verification_status', 'url',\n",
              "       'addr_state'], dtype='<U19')"
            ]
          },
          "metadata": {},
          "execution_count": 134
        }
      ]
    },
    {
      "cell_type": "code",
      "source": [
        "cp_test['data']"
      ],
      "metadata": {
        "colab": {
          "base_uri": "https://localhost:8080/"
        },
        "id": "HHruzLmQJqXV",
        "outputId": "638f7b44-82b5-4a74-c50d-d0ba36e01c97"
      },
      "execution_count": 135,
      "outputs": [
        {
          "output_type": "execute_result",
          "data": {
            "text/plain": [
              "array([['May-15', 'Current', '36 months', ..., 'Verified',\n",
              "        'https://www.lendingclub.com/browse/loanDetail.action?loan_id=48010226', 'CA'],\n",
              "       ['', 'Current', '36 months', ..., 'Source Verified',\n",
              "        'https://www.lendingclub.com/browse/loanDetail.action?loan_id=57693261', 'NY'],\n",
              "       ['Sep-15', 'Current', '36 months', ..., 'Verified',\n",
              "        'https://www.lendingclub.com/browse/loanDetail.action?loan_id=59432726', 'PA'],\n",
              "       ...,\n",
              "       ['Jun-15', 'Current', '36 months', ..., 'Source Verified',\n",
              "        'https://www.lendingclub.com/browse/loanDetail.action?loan_id=50415990', 'CA'],\n",
              "       ['Apr-15', 'Current', '36 months', ..., 'Source Verified',\n",
              "        'https://www.lendingclub.com/browse/loanDetail.action?loan_id=46154151', 'OH'],\n",
              "       ['Dec-15', 'Current', '36 months', ..., '',\n",
              "        'https://www.lendingclub.com/browse/loanDetail.action?loan_id=66055249', 'IL']],\n",
              "      dtype='<U69')"
            ]
          },
          "metadata": {},
          "execution_count": 135
        }
      ]
    },
    {
      "cell_type": "code",
      "source": [
        "np.array_equal(cp_test['data'], data_string)"
      ],
      "metadata": {
        "colab": {
          "base_uri": "https://localhost:8080/"
        },
        "id": "48Ofs4fJJ1d_",
        "outputId": "8eebc7df-e96c-4649-c272-298ddf9c744c"
      },
      "execution_count": 136,
      "outputs": [
        {
          "output_type": "execute_result",
          "data": {
            "text/plain": [
              "True"
            ]
          },
          "metadata": {},
          "execution_count": 136
        }
      ]
    },
    {
      "cell_type": "markdown",
      "source": [
        "#**Manipulating string columns**"
      ],
      "metadata": {
        "id": "AL9yqSQvJ_ap"
      }
    },
    {
      "cell_type": "markdown",
      "source": [
        "**Issue Date**"
      ],
      "metadata": {
        "id": "nQ9M0IEiKSl1"
      }
    },
    {
      "cell_type": "code",
      "source": [
        "header_string"
      ],
      "metadata": {
        "colab": {
          "base_uri": "https://localhost:8080/"
        },
        "id": "4Ppr7kMbKD8L",
        "outputId": "b3bbc377-7982-495e-e71e-052b4fc9af55"
      },
      "execution_count": 137,
      "outputs": [
        {
          "output_type": "execute_result",
          "data": {
            "text/plain": [
              "array(['issue_d', 'loan_status', 'term', 'grade', 'sub_grade', 'verification_status', 'url',\n",
              "       'addr_state'], dtype='<U19')"
            ]
          },
          "metadata": {},
          "execution_count": 137
        }
      ]
    },
    {
      "cell_type": "code",
      "source": [
        "header_string[0] = 'Issue_date'"
      ],
      "metadata": {
        "id": "PQ_xvUe-KWoc"
      },
      "execution_count": 138,
      "outputs": []
    },
    {
      "cell_type": "code",
      "source": [
        "data_string"
      ],
      "metadata": {
        "colab": {
          "base_uri": "https://localhost:8080/"
        },
        "id": "8DIhVSOaKe1q",
        "outputId": "a503f165-70b6-4d1d-81d7-1c42e24d6cab"
      },
      "execution_count": 139,
      "outputs": [
        {
          "output_type": "execute_result",
          "data": {
            "text/plain": [
              "array([['May-15', 'Current', '36 months', ..., 'Verified',\n",
              "        'https://www.lendingclub.com/browse/loanDetail.action?loan_id=48010226', 'CA'],\n",
              "       ['', 'Current', '36 months', ..., 'Source Verified',\n",
              "        'https://www.lendingclub.com/browse/loanDetail.action?loan_id=57693261', 'NY'],\n",
              "       ['Sep-15', 'Current', '36 months', ..., 'Verified',\n",
              "        'https://www.lendingclub.com/browse/loanDetail.action?loan_id=59432726', 'PA'],\n",
              "       ...,\n",
              "       ['Jun-15', 'Current', '36 months', ..., 'Source Verified',\n",
              "        'https://www.lendingclub.com/browse/loanDetail.action?loan_id=50415990', 'CA'],\n",
              "       ['Apr-15', 'Current', '36 months', ..., 'Source Verified',\n",
              "        'https://www.lendingclub.com/browse/loanDetail.action?loan_id=46154151', 'OH'],\n",
              "       ['Dec-15', 'Current', '36 months', ..., '',\n",
              "        'https://www.lendingclub.com/browse/loanDetail.action?loan_id=66055249', 'IL']],\n",
              "      dtype='<U69')"
            ]
          },
          "metadata": {},
          "execution_count": 139
        }
      ]
    },
    {
      "cell_type": "code",
      "source": [
        "np.unique(data_string[:,0])\n",
        "# mnt - year"
      ],
      "metadata": {
        "colab": {
          "base_uri": "https://localhost:8080/"
        },
        "id": "uh1isv3AKmyw",
        "outputId": "32aec94a-cd4f-4283-95c6-f37e1411c087"
      },
      "execution_count": 140,
      "outputs": [
        {
          "output_type": "execute_result",
          "data": {
            "text/plain": [
              "array(['', 'Apr-15', 'Aug-15', 'Dec-15', 'Feb-15', 'Jan-15', 'Jul-15', 'Jun-15', 'Mar-15',\n",
              "       'May-15', 'Nov-15', 'Oct-15', 'Sep-15'], dtype='<U69')"
            ]
          },
          "metadata": {},
          "execution_count": 140
        }
      ]
    },
    {
      "cell_type": "markdown",
      "source": [
        "strip -15 since all the dates are in the same year"
      ],
      "metadata": {
        "id": "Sy8c27mwLNNx"
      }
    },
    {
      "cell_type": "code",
      "source": [
        "data_string[:,0] = np.chararray.strip(data_string[:,0],'-15')\n",
        "data_string[:,0]"
      ],
      "metadata": {
        "colab": {
          "base_uri": "https://localhost:8080/"
        },
        "id": "9lE_ow6oLVqf",
        "outputId": "7ce841b3-2824-4c10-9165-28a32a8a2335"
      },
      "execution_count": 141,
      "outputs": [
        {
          "output_type": "execute_result",
          "data": {
            "text/plain": [
              "array(['May', '', 'Sep', ..., 'Jun', 'Apr', 'Dec'], dtype='<U69')"
            ]
          },
          "metadata": {},
          "execution_count": 141
        }
      ]
    },
    {
      "cell_type": "code",
      "source": [
        "np.unique(data_string[:,0])"
      ],
      "metadata": {
        "colab": {
          "base_uri": "https://localhost:8080/"
        },
        "id": "VDzxWHGHMDON",
        "outputId": "5564110c-8eb4-435d-c4cc-b98d88636b16"
      },
      "execution_count": 142,
      "outputs": [
        {
          "output_type": "execute_result",
          "data": {
            "text/plain": [
              "array(['', 'Apr', 'Aug', 'Dec', 'Feb', 'Jan', 'Jul', 'Jun', 'Mar', 'May', 'Nov', 'Oct', 'Sep'],\n",
              "      dtype='<U69')"
            ]
          },
          "metadata": {},
          "execution_count": 142
        }
      ]
    },
    {
      "cell_type": "markdown",
      "source": [
        "Represent month values as integers"
      ],
      "metadata": {
        "id": "EDVROp7vL4JZ"
      }
    },
    {
      "cell_type": "code",
      "source": [
        "months = np.array(['','Jan','Feb','Mar', 'Apr', 'May','Jun','Jul', 'Aug', 'Sep','Oct','Nov', 'Dec'])\n",
        "\n",
        "for i in range(13):\n",
        "  data_string[:,0] = np.where(data_string[:,0]==months[i],i,data_string[:,0])\n",
        "\n",
        "data_string[:,0]"
      ],
      "metadata": {
        "colab": {
          "base_uri": "https://localhost:8080/"
        },
        "id": "5zGBp1c-MI_T",
        "outputId": "6b71a909-a592-4684-d673-4d2efb13af90"
      },
      "execution_count": 143,
      "outputs": [
        {
          "output_type": "execute_result",
          "data": {
            "text/plain": [
              "array(['5', '0', '9', ..., '6', '4', '12'], dtype='<U69')"
            ]
          },
          "metadata": {},
          "execution_count": 143
        }
      ]
    },
    {
      "cell_type": "markdown",
      "source": [
        "**Loan Status**"
      ],
      "metadata": {
        "id": "Yn4havL5OBEM"
      }
    },
    {
      "cell_type": "code",
      "source": [
        "header_string"
      ],
      "metadata": {
        "colab": {
          "base_uri": "https://localhost:8080/"
        },
        "id": "fMkFYKLlOD_s",
        "outputId": "9799f810-0f98-409e-d54d-a73a56dd2823"
      },
      "execution_count": 144,
      "outputs": [
        {
          "output_type": "execute_result",
          "data": {
            "text/plain": [
              "array(['Issue_date', 'loan_status', 'term', 'grade', 'sub_grade', 'verification_status', 'url',\n",
              "       'addr_state'], dtype='<U19')"
            ]
          },
          "metadata": {},
          "execution_count": 144
        }
      ]
    },
    {
      "cell_type": "code",
      "source": [
        "np.unique(data_string[:,1])"
      ],
      "metadata": {
        "colab": {
          "base_uri": "https://localhost:8080/"
        },
        "id": "PqzcS2fNOPja",
        "outputId": "60e0cfab-5994-4803-c932-57d0f55d864f"
      },
      "execution_count": 145,
      "outputs": [
        {
          "output_type": "execute_result",
          "data": {
            "text/plain": [
              "array(['', 'Charged Off', 'Current', 'Default', 'Fully Paid', 'In Grace Period', 'Issued',\n",
              "       'Late (16-30 days)', 'Late (31-120 days)'], dtype='<U69')"
            ]
          },
          "metadata": {},
          "execution_count": 145
        }
      ]
    },
    {
      "cell_type": "code",
      "source": [
        "#number of unique elements\n",
        "np.unique(data_string[:,1]).size"
      ],
      "metadata": {
        "colab": {
          "base_uri": "https://localhost:8080/"
        },
        "id": "0uUKjWLkOlWA",
        "outputId": "5978009a-7709-4f7d-8e84-bdf4d9239ae0"
      },
      "execution_count": 146,
      "outputs": [
        {
          "output_type": "execute_result",
          "data": {
            "text/plain": [
              "9"
            ]
          },
          "metadata": {},
          "execution_count": 146
        }
      ]
    },
    {
      "cell_type": "markdown",
      "source": [
        "Only care if the candidate is in a stable financial condition.   \n",
        "Create variable to split status value in good or bad.   \n",
        "Good --> 1   \n",
        "Bad --> 0"
      ],
      "metadata": {
        "id": "rqxRqOcDOyvC"
      }
    },
    {
      "cell_type": "code",
      "source": [
        "status_bad = np.array(['', 'Charged Off','Default', 'Late (31-120 days)'])\n",
        "data_string[:,1] = np.where(np.isin(data_string[:,1],status_bad),0,1)"
      ],
      "metadata": {
        "id": "nSd9G2rtPcgs"
      },
      "execution_count": 147,
      "outputs": []
    },
    {
      "cell_type": "code",
      "source": [
        "np.unique(data_string[:,1])"
      ],
      "metadata": {
        "colab": {
          "base_uri": "https://localhost:8080/"
        },
        "id": "_a8pFHQnQZu6",
        "outputId": "73408bc6-7c72-41c0-9537-d9f6ceddaa34"
      },
      "execution_count": 148,
      "outputs": [
        {
          "output_type": "execute_result",
          "data": {
            "text/plain": [
              "array(['0', '1'], dtype='<U69')"
            ]
          },
          "metadata": {},
          "execution_count": 148
        }
      ]
    },
    {
      "cell_type": "markdown",
      "source": [
        "**Term**"
      ],
      "metadata": {
        "id": "aMdfwtiAQh9b"
      }
    },
    {
      "cell_type": "code",
      "source": [
        "header_string"
      ],
      "metadata": {
        "colab": {
          "base_uri": "https://localhost:8080/"
        },
        "id": "UeMYvK-EQkJC",
        "outputId": "5d10f4e4-f4d1-4ebc-a04d-549bb08860d3"
      },
      "execution_count": 149,
      "outputs": [
        {
          "output_type": "execute_result",
          "data": {
            "text/plain": [
              "array(['Issue_date', 'loan_status', 'term', 'grade', 'sub_grade', 'verification_status', 'url',\n",
              "       'addr_state'], dtype='<U19')"
            ]
          },
          "metadata": {},
          "execution_count": 149
        }
      ]
    },
    {
      "cell_type": "code",
      "source": [
        "np.unique(data_string[:,2])"
      ],
      "metadata": {
        "colab": {
          "base_uri": "https://localhost:8080/"
        },
        "id": "mSwqksCrQnCx",
        "outputId": "7ddb825d-26ce-4a38-b9f0-0e2fb45bb5e6"
      },
      "execution_count": 150,
      "outputs": [
        {
          "output_type": "execute_result",
          "data": {
            "text/plain": [
              "array(['', '36 months', '60 months'], dtype='<U69')"
            ]
          },
          "metadata": {},
          "execution_count": 150
        }
      ]
    },
    {
      "cell_type": "markdown",
      "source": [
        "Remove the \" months\""
      ],
      "metadata": {
        "id": "TUAax2ZOQ4-5"
      }
    },
    {
      "cell_type": "code",
      "source": [
        "data_string[:,2] = np.chararray.strip(data_string[:,2],\" months\")\n",
        "np.unique(data_string[:,2])"
      ],
      "metadata": {
        "colab": {
          "base_uri": "https://localhost:8080/"
        },
        "id": "M8_zUS8LQ8or",
        "outputId": "73b8fff6-df03-4c40-c941-edc30ad9712c"
      },
      "execution_count": 151,
      "outputs": [
        {
          "output_type": "execute_result",
          "data": {
            "text/plain": [
              "array(['', '36', '60'], dtype='<U69')"
            ]
          },
          "metadata": {},
          "execution_count": 151
        }
      ]
    },
    {
      "cell_type": "code",
      "source": [
        "header_string[2] = \"term_months\"\n",
        "header_string"
      ],
      "metadata": {
        "colab": {
          "base_uri": "https://localhost:8080/"
        },
        "id": "3IWtJ_M7RPwG",
        "outputId": "aed1350b-d561-4c86-9d7d-7957a2d1feb6"
      },
      "execution_count": 152,
      "outputs": [
        {
          "output_type": "execute_result",
          "data": {
            "text/plain": [
              "array(['Issue_date', 'loan_status', 'term_months', 'grade', 'sub_grade', 'verification_status',\n",
              "       'url', 'addr_state'], dtype='<U19')"
            ]
          },
          "metadata": {},
          "execution_count": 152
        }
      ]
    },
    {
      "cell_type": "markdown",
      "source": [
        "Assign 60 to each empty space.   \n",
        "If we have missing values in CRM, we asume the worst."
      ],
      "metadata": {
        "id": "QYpvclkTRmah"
      }
    },
    {
      "cell_type": "code",
      "source": [
        "data_string[:,2] = np.where(data_string[:,2] == '', 60, data_string[:,2])\n",
        "np.unique(data_string[:,2])"
      ],
      "metadata": {
        "colab": {
          "base_uri": "https://localhost:8080/"
        },
        "id": "R_JVy90eRslV",
        "outputId": "1ebceccb-ed73-4d54-d077-c54897153d2d"
      },
      "execution_count": 153,
      "outputs": [
        {
          "output_type": "execute_result",
          "data": {
            "text/plain": [
              "array(['36', '60'], dtype='<U69')"
            ]
          },
          "metadata": {},
          "execution_count": 153
        }
      ]
    },
    {
      "cell_type": "markdown",
      "source": [
        "**Grade and Sub-grade**"
      ],
      "metadata": {
        "id": "By_e1T47SNc9"
      }
    },
    {
      "cell_type": "code",
      "source": [
        "header_string"
      ],
      "metadata": {
        "colab": {
          "base_uri": "https://localhost:8080/"
        },
        "id": "_Hcpu6KZSVhJ",
        "outputId": "c8f3860e-61a8-4201-8903-c74db905821a"
      },
      "execution_count": 154,
      "outputs": [
        {
          "output_type": "execute_result",
          "data": {
            "text/plain": [
              "array(['Issue_date', 'loan_status', 'term_months', 'grade', 'sub_grade', 'verification_status',\n",
              "       'url', 'addr_state'], dtype='<U19')"
            ]
          },
          "metadata": {},
          "execution_count": 154
        }
      ]
    },
    {
      "cell_type": "code",
      "source": [
        "np.unique(data_string[:,3])"
      ],
      "metadata": {
        "colab": {
          "base_uri": "https://localhost:8080/"
        },
        "id": "ntnkd4U4SbfK",
        "outputId": "e90ead0f-0965-4245-9719-7a030c06a2e7"
      },
      "execution_count": 155,
      "outputs": [
        {
          "output_type": "execute_result",
          "data": {
            "text/plain": [
              "array(['', 'A', 'B', 'C', 'D', 'E', 'F', 'G'], dtype='<U69')"
            ]
          },
          "metadata": {},
          "execution_count": 155
        }
      ]
    },
    {
      "cell_type": "code",
      "source": [
        "np.unique(data_string[:,4])"
      ],
      "metadata": {
        "colab": {
          "base_uri": "https://localhost:8080/"
        },
        "id": "QaTg7UOwSitr",
        "outputId": "6f826c8b-42a1-43d6-a79b-9e1c2ededf69"
      },
      "execution_count": 156,
      "outputs": [
        {
          "output_type": "execute_result",
          "data": {
            "text/plain": [
              "array(['', 'A1', 'A2', 'A3', 'A4', 'A5', 'B1', 'B2', 'B3', 'B4', 'B5', 'C1', 'C2', 'C3', 'C4',\n",
              "       'C5', 'D1', 'D2', 'D3', 'D4', 'D5', 'E1', 'E2', 'E3', 'E4', 'E5', 'F1', 'F2', 'F3', 'F4',\n",
              "       'F5', 'G1', 'G2', 'G3', 'G4', 'G5'], dtype='<U69')"
            ]
          },
          "metadata": {},
          "execution_count": 156
        }
      ]
    },
    {
      "cell_type": "markdown",
      "source": [
        "Substitute empty spaces in Sub-grade"
      ],
      "metadata": {
        "id": "sHPjmP26S8CS"
      }
    },
    {
      "cell_type": "code",
      "source": [
        "for i in np.unique(data_string[:,3])[1:]:\n",
        "  data_string[:,4] = np.where((data_string[:,4] == '') & (data_string[:,3] == i), i+'5', data_string[:,4])\n",
        "np.unique(data_string[:,4], return_counts=True)"
      ],
      "metadata": {
        "colab": {
          "base_uri": "https://localhost:8080/"
        },
        "id": "CrOg08b7TAiF",
        "outputId": "b31cf1f6-4650-407c-c4f3-d35515b47db2"
      },
      "execution_count": 157,
      "outputs": [
        {
          "output_type": "execute_result",
          "data": {
            "text/plain": [
              "(array(['', 'A1', 'A2', 'A3', 'A4', 'A5', 'B1', 'B2', 'B3', 'B4', 'B5', 'C1', 'C2', 'C3', 'C4',\n",
              "        'C5', 'D1', 'D2', 'D3', 'D4', 'D5', 'E1', 'E2', 'E3', 'E4', 'E5', 'F1', 'F2', 'F3', 'F4',\n",
              "        'F5', 'G1', 'G2', 'G3', 'G4', 'G5'], dtype='<U69'),\n",
              " array([  9, 285, 278, 239, 323, 592, 509, 517, 530, 553, 633, 629, 567, 586, 564, 577, 391, 267,\n",
              "        250, 255, 288, 235, 162, 171, 139, 160,  94,  52,  34,  43,  24,  19,  10,   3,   7,   5]))"
            ]
          },
          "metadata": {},
          "execution_count": 157
        }
      ]
    },
    {
      "cell_type": "markdown",
      "source": [
        "Assign new Sub-grade category for valus that have empty space in both grade and subgrade"
      ],
      "metadata": {
        "id": "G2arEksDUyrE"
      }
    },
    {
      "cell_type": "code",
      "source": [
        "data_string[:,4] = np.where(data_string[:,4] == '', 'H1', data_string[:,4])"
      ],
      "metadata": {
        "id": "_ftYgfYqU8QW"
      },
      "execution_count": 158,
      "outputs": []
    },
    {
      "cell_type": "code",
      "source": [
        "np.unique(data_string[:,4])"
      ],
      "metadata": {
        "colab": {
          "base_uri": "https://localhost:8080/"
        },
        "id": "yRL6rQZuVK0m",
        "outputId": "12d08566-29c1-4bf6-934c-cb9adf98437e"
      },
      "execution_count": 159,
      "outputs": [
        {
          "output_type": "execute_result",
          "data": {
            "text/plain": [
              "array(['A1', 'A2', 'A3', 'A4', 'A5', 'B1', 'B2', 'B3', 'B4', 'B5', 'C1', 'C2', 'C3', 'C4', 'C5',\n",
              "       'D1', 'D2', 'D3', 'D4', 'D5', 'E1', 'E2', 'E3', 'E4', 'E5', 'F1', 'F2', 'F3', 'F4', 'F5',\n",
              "       'G1', 'G2', 'G3', 'G4', 'G5', 'H1'], dtype='<U69')"
            ]
          },
          "metadata": {},
          "execution_count": 159
        }
      ]
    },
    {
      "cell_type": "markdown",
      "source": [
        "**Removing Grade**"
      ],
      "metadata": {
        "id": "cGn7Qf9EVVED"
      }
    },
    {
      "cell_type": "code",
      "source": [
        "data_string = np.delete(data_string, 3, axis=1)\n"
      ],
      "metadata": {
        "id": "1feD3fFzVYGD"
      },
      "execution_count": 160,
      "outputs": []
    },
    {
      "cell_type": "code",
      "source": [
        "data_string[:,3]"
      ],
      "metadata": {
        "colab": {
          "base_uri": "https://localhost:8080/"
        },
        "id": "R1AqNa4sVuH1",
        "outputId": "1ce822a1-9fbe-4f73-b199-897ad5a296af"
      },
      "execution_count": 161,
      "outputs": [
        {
          "output_type": "execute_result",
          "data": {
            "text/plain": [
              "array(['C3', 'A5', 'B5', ..., 'A5', 'D2', 'A4'], dtype='<U69')"
            ]
          },
          "metadata": {},
          "execution_count": 161
        }
      ]
    },
    {
      "cell_type": "code",
      "source": [
        "header_straing = np.delete(header_string, 3)"
      ],
      "metadata": {
        "id": "4Z_AZ00NVwhm"
      },
      "execution_count": 162,
      "outputs": []
    },
    {
      "cell_type": "code",
      "source": [
        "header_straing"
      ],
      "metadata": {
        "colab": {
          "base_uri": "https://localhost:8080/"
        },
        "id": "RWSfa4FsWBF4",
        "outputId": "98ea4057-f5b2-4afd-8475-7e8b020ab75c"
      },
      "execution_count": 163,
      "outputs": [
        {
          "output_type": "execute_result",
          "data": {
            "text/plain": [
              "array(['Issue_date', 'loan_status', 'term_months', 'sub_grade', 'verification_status', 'url',\n",
              "       'addr_state'], dtype='<U19')"
            ]
          },
          "metadata": {},
          "execution_count": 163
        }
      ]
    },
    {
      "cell_type": "markdown",
      "source": [
        "**Converting Sub-grade to numeric values**"
      ],
      "metadata": {
        "id": "TYkKLg9JWPMe"
      }
    },
    {
      "cell_type": "code",
      "source": [
        "np.unique(data_string[:,3])"
      ],
      "metadata": {
        "colab": {
          "base_uri": "https://localhost:8080/"
        },
        "id": "Ay5fwFYvWT1P",
        "outputId": "819330b7-9620-4c88-f32a-c2ffefa88f9b"
      },
      "execution_count": 164,
      "outputs": [
        {
          "output_type": "execute_result",
          "data": {
            "text/plain": [
              "array(['A1', 'A2', 'A3', 'A4', 'A5', 'B1', 'B2', 'B3', 'B4', 'B5', 'C1', 'C2', 'C3', 'C4', 'C5',\n",
              "       'D1', 'D2', 'D3', 'D4', 'D5', 'E1', 'E2', 'E3', 'E4', 'E5', 'F1', 'F2', 'F3', 'F4', 'F5',\n",
              "       'G1', 'G2', 'G3', 'G4', 'G5', 'H1'], dtype='<U69')"
            ]
          },
          "metadata": {},
          "execution_count": 164
        }
      ]
    },
    {
      "cell_type": "code",
      "source": [
        "keys = list(np.unique(data_string[:,3]))\n",
        "values = list(range(1,np.unique(data_string[:,3]).size+1))\n",
        "dict_sub_grade = dict(zip(keys,values))"
      ],
      "metadata": {
        "id": "qp-9V7ykWi57"
      },
      "execution_count": 165,
      "outputs": []
    },
    {
      "cell_type": "code",
      "source": [
        "dict_sub_grade"
      ],
      "metadata": {
        "colab": {
          "base_uri": "https://localhost:8080/"
        },
        "id": "nPClKS90W5_z",
        "outputId": "d1ecb0a0-c67b-4d8b-a946-0d8ce68d825a"
      },
      "execution_count": 166,
      "outputs": [
        {
          "output_type": "execute_result",
          "data": {
            "text/plain": [
              "{'A1': 1,\n",
              " 'A2': 2,\n",
              " 'A3': 3,\n",
              " 'A4': 4,\n",
              " 'A5': 5,\n",
              " 'B1': 6,\n",
              " 'B2': 7,\n",
              " 'B3': 8,\n",
              " 'B4': 9,\n",
              " 'B5': 10,\n",
              " 'C1': 11,\n",
              " 'C2': 12,\n",
              " 'C3': 13,\n",
              " 'C4': 14,\n",
              " 'C5': 15,\n",
              " 'D1': 16,\n",
              " 'D2': 17,\n",
              " 'D3': 18,\n",
              " 'D4': 19,\n",
              " 'D5': 20,\n",
              " 'E1': 21,\n",
              " 'E2': 22,\n",
              " 'E3': 23,\n",
              " 'E4': 24,\n",
              " 'E5': 25,\n",
              " 'F1': 26,\n",
              " 'F2': 27,\n",
              " 'F3': 28,\n",
              " 'F4': 29,\n",
              " 'F5': 30,\n",
              " 'G1': 31,\n",
              " 'G2': 32,\n",
              " 'G3': 33,\n",
              " 'G4': 34,\n",
              " 'G5': 35,\n",
              " 'H1': 36}"
            ]
          },
          "metadata": {},
          "execution_count": 166
        }
      ]
    },
    {
      "cell_type": "code",
      "source": [
        "for i in np.unique(data_string[:,3]):\n",
        "  data_string[:,3] = np.where(data_string[:,3]==i,\n",
        "                              dict_sub_grade[i],\n",
        "                              data_string[:,3])"
      ],
      "metadata": {
        "id": "-krRYr-nXp-N"
      },
      "execution_count": 167,
      "outputs": []
    },
    {
      "cell_type": "code",
      "source": [
        "np.unique(data_string[:,3])"
      ],
      "metadata": {
        "colab": {
          "base_uri": "https://localhost:8080/"
        },
        "id": "9fX_pVvSYhoq",
        "outputId": "034347e8-304e-4622-8469-41a038ec290b"
      },
      "execution_count": 168,
      "outputs": [
        {
          "output_type": "execute_result",
          "data": {
            "text/plain": [
              "array(['1', '10', '11', '12', '13', '14', '15', '16', '17', '18', '19', '2', '20', '21', '22',\n",
              "       '23', '24', '25', '26', '27', '28', '29', '3', '30', '31', '32', '33', '34', '35', '36',\n",
              "       '4', '5', '6', '7', '8', '9'], dtype='<U69')"
            ]
          },
          "metadata": {},
          "execution_count": 168
        }
      ]
    },
    {
      "cell_type": "markdown",
      "source": [
        "**Verification status**"
      ],
      "metadata": {
        "id": "qwzAA9AgYqjN"
      }
    },
    {
      "cell_type": "code",
      "source": [
        "header_straing"
      ],
      "metadata": {
        "id": "RnyYJakwYuvg",
        "colab": {
          "base_uri": "https://localhost:8080/"
        },
        "outputId": "f5b720ff-c85a-4b00-db59-7d80b06e3a01"
      },
      "execution_count": 169,
      "outputs": [
        {
          "output_type": "execute_result",
          "data": {
            "text/plain": [
              "array(['Issue_date', 'loan_status', 'term_months', 'sub_grade', 'verification_status', 'url',\n",
              "       'addr_state'], dtype='<U19')"
            ]
          },
          "metadata": {},
          "execution_count": 169
        }
      ]
    },
    {
      "cell_type": "code",
      "source": [
        "np.unique(data_string[:,4])"
      ],
      "metadata": {
        "colab": {
          "base_uri": "https://localhost:8080/"
        },
        "id": "cOUaWaVL803K",
        "outputId": "2ead0416-7a8a-4765-bc58-a9cd2188256a"
      },
      "execution_count": 170,
      "outputs": [
        {
          "output_type": "execute_result",
          "data": {
            "text/plain": [
              "array(['', 'Not Verified', 'Source Verified', 'Verified'], dtype='<U69')"
            ]
          },
          "metadata": {},
          "execution_count": 170
        }
      ]
    },
    {
      "cell_type": "markdown",
      "source": [
        "Chnage column values into 0 and 1"
      ],
      "metadata": {
        "id": "8_QVzF3F9YCR"
      }
    },
    {
      "cell_type": "code",
      "source": [
        "data_string[:,4] = np.where((data_string[:,4]=='') | (data_string[:,4]=='Not Verified'),0,1)"
      ],
      "metadata": {
        "id": "f8H5LEHq9dBv"
      },
      "execution_count": 171,
      "outputs": []
    },
    {
      "cell_type": "code",
      "source": [
        "np.unique(data_string[:,4])"
      ],
      "metadata": {
        "colab": {
          "base_uri": "https://localhost:8080/"
        },
        "id": "sOcHyZ7c9rim",
        "outputId": "4c884d95-1efc-41b6-ade7-6d10b39afd2a"
      },
      "execution_count": 172,
      "outputs": [
        {
          "output_type": "execute_result",
          "data": {
            "text/plain": [
              "array(['0', '1'], dtype='<U69')"
            ]
          },
          "metadata": {},
          "execution_count": 172
        }
      ]
    },
    {
      "cell_type": "markdown",
      "source": [
        "**URL**"
      ],
      "metadata": {
        "id": "GQfBBbvp9zJW"
      }
    },
    {
      "cell_type": "code",
      "source": [
        "np.unique(data_string[:,5])"
      ],
      "metadata": {
        "colab": {
          "base_uri": "https://localhost:8080/"
        },
        "id": "ZhSKDwD6913y",
        "outputId": "a8c98dd7-1905-4bb2-a491-9a7ab1df4ba8"
      },
      "execution_count": 173,
      "outputs": [
        {
          "output_type": "execute_result",
          "data": {
            "text/plain": [
              "array(['https://www.lendingclub.com/browse/loanDetail.action?loan_id=12606806',\n",
              "       'https://www.lendingclub.com/browse/loanDetail.action?loan_id=13026045',\n",
              "       'https://www.lendingclub.com/browse/loanDetail.action?loan_id=1312426', ...,\n",
              "       'https://www.lendingclub.com/browse/loanDetail.action?loan_id=8138291',\n",
              "       'https://www.lendingclub.com/browse/loanDetail.action?loan_id=8214572',\n",
              "       'https://www.lendingclub.com/browse/loanDetail.action?loan_id=849994'], dtype='<U69')"
            ]
          },
          "metadata": {},
          "execution_count": 173
        }
      ]
    },
    {
      "cell_type": "markdown",
      "source": [
        "Remove the repeating part"
      ],
      "metadata": {
        "id": "cxXDez1a-ECM"
      }
    },
    {
      "cell_type": "code",
      "source": [
        "data_string[:,5] = np.chararray.strip(data_string[:,5],\"https://www.lendingclub.com/browse/loanDetail.action?loan_id=\")\n",
        "data_string[:,5]"
      ],
      "metadata": {
        "colab": {
          "base_uri": "https://localhost:8080/"
        },
        "id": "Gr6szFjM-HQg",
        "outputId": "7ce70e6d-1360-4320-efb9-ab1f19614487"
      },
      "execution_count": 174,
      "outputs": [
        {
          "output_type": "execute_result",
          "data": {
            "text/plain": [
              "array(['48010226', '57693261', '59432726', ..., '50415990', '46154151', '66055249'], dtype='<U69')"
            ]
          },
          "metadata": {},
          "execution_count": 174
        }
      ]
    },
    {
      "cell_type": "code",
      "source": [
        "header"
      ],
      "metadata": {
        "colab": {
          "base_uri": "https://localhost:8080/"
        },
        "id": "yp90xrIg-hUT",
        "outputId": "3c773d1f-9fbb-492c-93f2-4f495b7fecfa"
      },
      "execution_count": 175,
      "outputs": [
        {
          "output_type": "execute_result",
          "data": {
            "text/plain": [
              "array(['id', 'issue_d', 'loan_amnt', 'loan_status', 'funded_amnt', 'term', 'int_rate',\n",
              "       'installment', 'grade', 'sub_grade', 'verification_status', 'url', 'addr_state',\n",
              "       'total_pymnt'], dtype='<U19')"
            ]
          },
          "metadata": {},
          "execution_count": 175
        }
      ]
    },
    {
      "cell_type": "code",
      "source": [
        "data_numeric[:,0]"
      ],
      "metadata": {
        "colab": {
          "base_uri": "https://localhost:8080/"
        },
        "id": "aa-pPzCP-jx_",
        "outputId": "07698b68-2385-4c36-a151-42f0b0f847a6"
      },
      "execution_count": 176,
      "outputs": [
        {
          "output_type": "execute_result",
          "data": {
            "text/plain": [
              "array([48010226., 57693261., 59432726., ..., 50415990., 46154151., 66055249.])"
            ]
          },
          "metadata": {},
          "execution_count": 176
        }
      ]
    },
    {
      "cell_type": "code",
      "source": [
        "np.array_equal(data_string[:,5].astype(dtype=int), data_numeric[:,0].astype(dtype=int))"
      ],
      "metadata": {
        "colab": {
          "base_uri": "https://localhost:8080/"
        },
        "id": "1dY7OKD--9t2",
        "outputId": "c0cb8816-1c1a-494c-986c-de2fe52d1185"
      },
      "execution_count": 177,
      "outputs": [
        {
          "output_type": "execute_result",
          "data": {
            "text/plain": [
              "True"
            ]
          },
          "metadata": {},
          "execution_count": 177
        }
      ]
    },
    {
      "cell_type": "code",
      "source": [
        "data_string = np.delete(data_string,5,axis=1)"
      ],
      "metadata": {
        "id": "LgE8P4_3_Wqh"
      },
      "execution_count": 178,
      "outputs": []
    },
    {
      "cell_type": "code",
      "source": [
        "header_straing = np.delete(header_straing,5)\n",
        "header_straing"
      ],
      "metadata": {
        "colab": {
          "base_uri": "https://localhost:8080/"
        },
        "id": "iPUjvCqm_t3Z",
        "outputId": "d1c1872e-dbdf-41e6-bff4-bd2cb6547972"
      },
      "execution_count": 179,
      "outputs": [
        {
          "output_type": "execute_result",
          "data": {
            "text/plain": [
              "array(['Issue_date', 'loan_status', 'term_months', 'sub_grade', 'verification_status',\n",
              "       'addr_state'], dtype='<U19')"
            ]
          },
          "metadata": {},
          "execution_count": 179
        }
      ]
    },
    {
      "cell_type": "markdown",
      "source": [
        "**State Address**"
      ],
      "metadata": {
        "id": "BwtiUXwqAFVF"
      }
    },
    {
      "cell_type": "code",
      "source": [
        "header_straing"
      ],
      "metadata": {
        "colab": {
          "base_uri": "https://localhost:8080/"
        },
        "id": "alKCXpwUAOal",
        "outputId": "de68076d-ec07-4a17-92d7-502df6771668"
      },
      "execution_count": 180,
      "outputs": [
        {
          "output_type": "execute_result",
          "data": {
            "text/plain": [
              "array(['Issue_date', 'loan_status', 'term_months', 'sub_grade', 'verification_status',\n",
              "       'addr_state'], dtype='<U19')"
            ]
          },
          "metadata": {},
          "execution_count": 180
        }
      ]
    },
    {
      "cell_type": "code",
      "source": [
        "header_straing[5] = 'State_Address'"
      ],
      "metadata": {
        "id": "V0iwM2vZA4Hk"
      },
      "execution_count": 181,
      "outputs": []
    },
    {
      "cell_type": "code",
      "source": [
        "state_name, state_count = np.unique(data_string[:,5], return_counts=True)"
      ],
      "metadata": {
        "id": "Y9k53Q4MAXuj"
      },
      "execution_count": 182,
      "outputs": []
    },
    {
      "cell_type": "markdown",
      "source": [
        "Sort count in decreasing order"
      ],
      "metadata": {
        "id": "bmkJKzKVCIn3"
      }
    },
    {
      "cell_type": "code",
      "source": [
        "state_count_sorted = np.argsort(-state_count)\n",
        "state_name[state_count_sorted], state_count[state_count_sorted]"
      ],
      "metadata": {
        "colab": {
          "base_uri": "https://localhost:8080/"
        },
        "id": "HBRbZ0eBBvgy",
        "outputId": "a0d8284a-6ca1-487e-bab2-5c2a3631f2aa"
      },
      "execution_count": 183,
      "outputs": [
        {
          "output_type": "execute_result",
          "data": {
            "text/plain": [
              "(array(['CA', 'NY', 'TX', 'FL', '', 'IL', 'NJ', 'GA', 'PA', 'OH', 'MI', 'NC', 'VA', 'MD', 'AZ',\n",
              "        'WA', 'MA', 'CO', 'MO', 'MN', 'IN', 'WI', 'CT', 'TN', 'NV', 'AL', 'LA', 'OR', 'SC', 'KY',\n",
              "        'KS', 'OK', 'UT', 'AR', 'MS', 'NH', 'NM', 'WV', 'HI', 'RI', 'MT', 'DE', 'DC', 'WY', 'AK',\n",
              "        'NE', 'SD', 'VT', 'ND', 'ME'], dtype='<U69'),\n",
              " array([1336,  777,  758,  690,  500,  389,  341,  321,  320,  312,  267,  261,  242,  222,  220,\n",
              "         216,  210,  201,  160,  156,  152,  148,  143,  143,  130,  119,  116,  108,  107,   84,\n",
              "          84,   83,   74,   74,   61,   58,   57,   49,   44,   40,   28,   27,   27,   27,   26,\n",
              "          25,   24,   17,   16,   10]))"
            ]
          },
          "metadata": {},
          "execution_count": 183
        }
      ]
    },
    {
      "cell_type": "markdown",
      "source": [
        "Missing Values"
      ],
      "metadata": {
        "id": "c9vc3NQeC_81"
      }
    },
    {
      "cell_type": "code",
      "source": [
        "data_string[:,5] = np.where(data_string[:,5]=='',0,data_string[:,5])"
      ],
      "metadata": {
        "id": "SlFp2iupDB9H"
      },
      "execution_count": 184,
      "outputs": []
    },
    {
      "cell_type": "markdown",
      "source": [
        "Group states to avoid outliers issues.   \n",
        "west = 1   \n",
        "south = 2   \n",
        "midwest = 3   \n",
        "east = 4"
      ],
      "metadata": {
        "id": "qhVN6A9YCvXh"
      }
    },
    {
      "cell_type": "code",
      "source": [
        "states_west = np.array(['WA', 'OR','CA','NV','ID','MT', 'WY','UT','CO', 'AZ','NM','HI','AK'])\n",
        "states_south = np.array(['TX','OK','AR','LA','MS','AL','TN','KY','FL','GA','SC','NC','VA','WV','MD','DE','DC'])\n",
        "states_midwest = np.array(['ND','SD','NE','KS','MN','IA','MO','WI','IL','IN','MI','OH'])\n",
        "states_east = np.array(['PA','NY','NJ','CT','MA','VT','NH','ME','RI'])"
      ],
      "metadata": {
        "id": "cWW89qRtCz2z"
      },
      "execution_count": 185,
      "outputs": []
    },
    {
      "cell_type": "code",
      "source": [
        "data_string[:,5] = np.where(np.isin(data_string[:,5],states_west),1,data_string[:,5])\n",
        "data_string[:,5] = np.where(np.isin(data_string[:,5],states_south),2,data_string[:,5])\n",
        "data_string[:,5] = np.where(np.isin(data_string[:,5],states_midwest),3,data_string[:,5])\n",
        "data_string[:,5] = np.where(np.isin(data_string[:,5],states_east),4,data_string[:,5])"
      ],
      "metadata": {
        "id": "91wYCbQiDury"
      },
      "execution_count": 186,
      "outputs": []
    },
    {
      "cell_type": "code",
      "source": [
        "np.unique(data_string[:,5])"
      ],
      "metadata": {
        "colab": {
          "base_uri": "https://localhost:8080/"
        },
        "id": "hLPzKK1kER1d",
        "outputId": "bc77ee29-6da2-4cc7-960b-5dd82017b880"
      },
      "execution_count": 187,
      "outputs": [
        {
          "output_type": "execute_result",
          "data": {
            "text/plain": [
              "array(['0', '1', '2', '3', '4'], dtype='<U69')"
            ]
          },
          "metadata": {},
          "execution_count": 187
        }
      ]
    },
    {
      "cell_type": "markdown",
      "source": [
        "#**Converting string data to numeric**"
      ],
      "metadata": {
        "id": "lEjRK5dxEmXW"
      }
    },
    {
      "cell_type": "code",
      "source": [
        "data_string"
      ],
      "metadata": {
        "colab": {
          "base_uri": "https://localhost:8080/"
        },
        "id": "Sdp0FM68Es5x",
        "outputId": "7a0d9a7b-413c-40c0-a712-6dfd11f0db5a"
      },
      "execution_count": 188,
      "outputs": [
        {
          "output_type": "execute_result",
          "data": {
            "text/plain": [
              "array([['5', '1', '36', '13', '1', '1'],\n",
              "       ['0', '1', '36', '5', '1', '4'],\n",
              "       ['9', '1', '36', '10', '1', '4'],\n",
              "       ...,\n",
              "       ['6', '1', '36', '5', '1', '1'],\n",
              "       ['4', '1', '36', '17', '1', '3'],\n",
              "       ['12', '1', '36', '4', '0', '3']], dtype='<U69')"
            ]
          },
          "metadata": {},
          "execution_count": 188
        }
      ]
    },
    {
      "cell_type": "code",
      "source": [
        "data_string = data_string.astype(int)\n",
        "data_string"
      ],
      "metadata": {
        "colab": {
          "base_uri": "https://localhost:8080/"
        },
        "id": "hwFNeqZjE2rx",
        "outputId": "7d3af702-efa5-41f5-a540-b74d44608ef2"
      },
      "execution_count": 189,
      "outputs": [
        {
          "output_type": "execute_result",
          "data": {
            "text/plain": [
              "array([[ 5,  1, 36, 13,  1,  1],\n",
              "       [ 0,  1, 36,  5,  1,  4],\n",
              "       [ 9,  1, 36, 10,  1,  4],\n",
              "       ...,\n",
              "       [ 6,  1, 36,  5,  1,  1],\n",
              "       [ 4,  1, 36, 17,  1,  3],\n",
              "       [12,  1, 36,  4,  0,  3]])"
            ]
          },
          "metadata": {},
          "execution_count": 189
        }
      ]
    },
    {
      "cell_type": "markdown",
      "source": [
        "##**Checkpoint 1: Strings**"
      ],
      "metadata": {
        "id": "PRd1h7M2FUyA"
      }
    },
    {
      "cell_type": "code",
      "source": [
        "checkpoint_Strings = checkpoint(\"Checkpoint-Strings\", header_straing, data_string)"
      ],
      "metadata": {
        "id": "hbqLdFN4FZ0Z"
      },
      "execution_count": 190,
      "outputs": []
    },
    {
      "cell_type": "code",
      "source": [
        "checkpoint_Strings['header']"
      ],
      "metadata": {
        "colab": {
          "base_uri": "https://localhost:8080/"
        },
        "id": "xM0NjoEjF3d0",
        "outputId": "4e970513-c964-444c-cbdc-e8d53e021696"
      },
      "execution_count": 191,
      "outputs": [
        {
          "output_type": "execute_result",
          "data": {
            "text/plain": [
              "array(['Issue_date', 'loan_status', 'term_months', 'sub_grade', 'verification_status',\n",
              "       'State_Address'], dtype='<U19')"
            ]
          },
          "metadata": {},
          "execution_count": 191
        }
      ]
    },
    {
      "cell_type": "code",
      "source": [
        "checkpoint_Strings['data']"
      ],
      "metadata": {
        "colab": {
          "base_uri": "https://localhost:8080/"
        },
        "id": "LFqWNF0fF5hP",
        "outputId": "667689c2-df82-4f8b-d67c-4a330a708f02"
      },
      "execution_count": 192,
      "outputs": [
        {
          "output_type": "execute_result",
          "data": {
            "text/plain": [
              "array([[ 5,  1, 36, 13,  1,  1],\n",
              "       [ 0,  1, 36,  5,  1,  4],\n",
              "       [ 9,  1, 36, 10,  1,  4],\n",
              "       ...,\n",
              "       [ 6,  1, 36,  5,  1,  1],\n",
              "       [ 4,  1, 36, 17,  1,  3],\n",
              "       [12,  1, 36,  4,  0,  3]])"
            ]
          },
          "metadata": {},
          "execution_count": 192
        }
      ]
    },
    {
      "cell_type": "markdown",
      "source": [
        "#**Manipulating Numeric columns**"
      ],
      "metadata": {
        "id": "wV-R67eqGD0V"
      }
    },
    {
      "cell_type": "code",
      "source": [
        "data_numeric"
      ],
      "metadata": {
        "colab": {
          "base_uri": "https://localhost:8080/"
        },
        "id": "5lGsKirNGKUk",
        "outputId": "9fcb2ec7-cdd2-49f8-bc17-bf6a5e3966ec"
      },
      "execution_count": 193,
      "outputs": [
        {
          "output_type": "execute_result",
          "data": {
            "text/plain": [
              "array([[48010226.  ,    35000.  ,    35000.  ,       13.33,     1184.86,     9452.96],\n",
              "       [57693261.  ,    30000.  ,    30000.  , 68616520.  ,      938.57,     4679.7 ],\n",
              "       [59432726.  ,    15000.  ,    15000.  , 68616520.  ,      494.86,     1969.83],\n",
              "       ...,\n",
              "       [50415990.  ,    10000.  ,    10000.  , 68616520.  , 68616520.  ,     2185.64],\n",
              "       [46154151.  , 68616520.  ,    10000.  ,       16.55,      354.3 ,     3199.4 ],\n",
              "       [66055249.  ,    10000.  ,    10000.  , 68616520.  ,      309.97,      301.9 ]])"
            ]
          },
          "metadata": {},
          "execution_count": 193
        }
      ]
    },
    {
      "cell_type": "code",
      "source": [
        "np.isnan(data_numeric).sum()"
      ],
      "metadata": {
        "colab": {
          "base_uri": "https://localhost:8080/"
        },
        "id": "YkGBhxqKGSHj",
        "outputId": "d13252bd-6033-47ae-d973-f1775fe78cab"
      },
      "execution_count": 194,
      "outputs": [
        {
          "output_type": "execute_result",
          "data": {
            "text/plain": [
              "0"
            ]
          },
          "metadata": {},
          "execution_count": 194
        }
      ]
    },
    {
      "cell_type": "markdown",
      "source": [
        "##**Substitute Filler Values**"
      ],
      "metadata": {
        "id": "zxZ0PoMNGf1I"
      }
    },
    {
      "cell_type": "code",
      "source": [
        "header_numeric"
      ],
      "metadata": {
        "colab": {
          "base_uri": "https://localhost:8080/"
        },
        "id": "xCap709yGmS4",
        "outputId": "99565ae5-fa93-4713-aebb-0a231a98349a"
      },
      "execution_count": 195,
      "outputs": [
        {
          "output_type": "execute_result",
          "data": {
            "text/plain": [
              "array(['id', 'loan_amnt', 'funded_amnt', 'int_rate', 'installment', 'total_pymnt'], dtype='<U19')"
            ]
          },
          "metadata": {},
          "execution_count": 195
        }
      ]
    },
    {
      "cell_type": "markdown",
      "source": [
        "**id**"
      ],
      "metadata": {
        "id": "afU51MjEGx89"
      }
    },
    {
      "cell_type": "code",
      "source": [
        "data_numeric[:,0]"
      ],
      "metadata": {
        "colab": {
          "base_uri": "https://localhost:8080/"
        },
        "id": "ThuXZmIzG0TV",
        "outputId": "879c221d-0398-4f5f-eef8-e4c35daa9f59"
      },
      "execution_count": 196,
      "outputs": [
        {
          "output_type": "execute_result",
          "data": {
            "text/plain": [
              "array([48010226., 57693261., 59432726., ..., 50415990., 46154151., 66055249.])"
            ]
          },
          "metadata": {},
          "execution_count": 196
        }
      ]
    },
    {
      "cell_type": "code",
      "source": [
        "temp_fill"
      ],
      "metadata": {
        "colab": {
          "base_uri": "https://localhost:8080/"
        },
        "id": "80-zRy3bHBuW",
        "outputId": "649fecb0-b4c2-44a7-c0c4-563aacb85506"
      },
      "execution_count": 197,
      "outputs": [
        {
          "output_type": "execute_result",
          "data": {
            "text/plain": [
              "68616520.0"
            ]
          },
          "metadata": {},
          "execution_count": 197
        }
      ]
    },
    {
      "cell_type": "markdown",
      "source": [
        "Check missing values"
      ],
      "metadata": {
        "id": "dokmWFADHLU3"
      }
    },
    {
      "cell_type": "code",
      "source": [
        "np.isin(data_numeric[:,0],temp_fill).sum()"
      ],
      "metadata": {
        "colab": {
          "base_uri": "https://localhost:8080/"
        },
        "id": "MFThPVeXHNZr",
        "outputId": "367be62c-d67c-480e-a2c5-e3091fc533ad"
      },
      "execution_count": 198,
      "outputs": [
        {
          "output_type": "execute_result",
          "data": {
            "text/plain": [
              "0"
            ]
          },
          "metadata": {},
          "execution_count": 198
        }
      ]
    },
    {
      "cell_type": "markdown",
      "source": [
        "**Use temporary stats to replace missing values**"
      ],
      "metadata": {
        "id": "YEXecUYmHnRZ"
      }
    },
    {
      "cell_type": "code",
      "source": [
        "col_numeric"
      ],
      "metadata": {
        "colab": {
          "base_uri": "https://localhost:8080/"
        },
        "id": "5FcVWUMPIGy3",
        "outputId": "15b5e335-e12b-42b9-ad3f-9cbbe9e2ec17"
      },
      "execution_count": 199,
      "outputs": [
        {
          "output_type": "execute_result",
          "data": {
            "text/plain": [
              "array([ 0,  2,  4,  6,  7, 13])"
            ]
          },
          "metadata": {},
          "execution_count": 199
        }
      ]
    },
    {
      "cell_type": "code",
      "source": [
        "temp_stats[:,col_numeric]\n",
        "#first row = min values\n",
        "#sec = mean values\n",
        "#third = max values"
      ],
      "metadata": {
        "colab": {
          "base_uri": "https://localhost:8080/"
        },
        "id": "WVBnHzrBHtiJ",
        "outputId": "a74af55a-d8d7-4282-e134-fa7fc0679ccc"
      },
      "execution_count": 200,
      "outputs": [
        {
          "output_type": "execute_result",
          "data": {
            "text/plain": [
              "array([[  373332.  ,     1000.  ,     1000.  ,        6.  ,       31.42,        0.  ],\n",
              "       [54015809.19,    15273.46,    15311.04,       16.62,      440.92,     3143.85],\n",
              "       [68616519.  ,    35000.  ,    35000.  ,       28.99,     1372.97,    41913.62]])"
            ]
          },
          "metadata": {},
          "execution_count": 200
        }
      ]
    },
    {
      "cell_type": "code",
      "source": [
        "header_numeric"
      ],
      "metadata": {
        "colab": {
          "base_uri": "https://localhost:8080/"
        },
        "id": "tZbmWr4zIwcb",
        "outputId": "b2b56c90-b54a-4a67-d04e-056139d04737"
      },
      "execution_count": 201,
      "outputs": [
        {
          "output_type": "execute_result",
          "data": {
            "text/plain": [
              "array(['id', 'loan_amnt', 'funded_amnt', 'int_rate', 'installment', 'total_pymnt'], dtype='<U19')"
            ]
          },
          "metadata": {},
          "execution_count": 201
        }
      ]
    },
    {
      "cell_type": "markdown",
      "source": [
        "**Funded Amount**   \n",
        "Replace filler values with the column min"
      ],
      "metadata": {
        "id": "1lHYDtchIjy5"
      }
    },
    {
      "cell_type": "code",
      "source": [
        "data_numeric[:,2] = np.where(data_numeric[:,2] == temp_fill, temp_stats[0,col_numeric[2]], data_numeric[:,2])\n",
        "data_numeric[:,2]"
      ],
      "metadata": {
        "colab": {
          "base_uri": "https://localhost:8080/"
        },
        "id": "Zj-HxasQItFX",
        "outputId": "4d91c23f-9d5a-4fde-8489-cf2c0fb77db3"
      },
      "execution_count": 202,
      "outputs": [
        {
          "output_type": "execute_result",
          "data": {
            "text/plain": [
              "array([35000., 30000., 15000., ..., 10000., 10000., 10000.])"
            ]
          },
          "metadata": {},
          "execution_count": 202
        }
      ]
    },
    {
      "cell_type": "markdown",
      "source": [
        "**Loaned Amount, Interest Rate, Total Payment, Installment**   \n",
        "Replace filler values with the max of each column"
      ],
      "metadata": {
        "id": "DsSRHJq2J51d"
      }
    },
    {
      "cell_type": "code",
      "source": [
        "data_numeric"
      ],
      "metadata": {
        "colab": {
          "base_uri": "https://localhost:8080/"
        },
        "id": "j6Z1HXFUKz6h",
        "outputId": "dd0a1922-4dd4-49f1-eca8-a7a7a6c70ba5"
      },
      "execution_count": 203,
      "outputs": [
        {
          "output_type": "execute_result",
          "data": {
            "text/plain": [
              "array([[48010226.  ,    35000.  ,    35000.  ,       13.33,     1184.86,     9452.96],\n",
              "       [57693261.  ,    30000.  ,    30000.  , 68616520.  ,      938.57,     4679.7 ],\n",
              "       [59432726.  ,    15000.  ,    15000.  , 68616520.  ,      494.86,     1969.83],\n",
              "       ...,\n",
              "       [50415990.  ,    10000.  ,    10000.  , 68616520.  , 68616520.  ,     2185.64],\n",
              "       [46154151.  , 68616520.  ,    10000.  ,       16.55,      354.3 ,     3199.4 ],\n",
              "       [66055249.  ,    10000.  ,    10000.  , 68616520.  ,      309.97,      301.9 ]])"
            ]
          },
          "metadata": {},
          "execution_count": 203
        }
      ]
    },
    {
      "cell_type": "code",
      "source": [
        "for i in [1,3,4,5]:\n",
        "  data_numeric[:,i] = np.where(data_numeric[:,i] == temp_fill, temp_stats[2,col_numeric[i]], data_numeric[:,i])"
      ],
      "metadata": {
        "id": "wmiEN13DJ8hH"
      },
      "execution_count": 204,
      "outputs": []
    },
    {
      "cell_type": "code",
      "source": [
        "data_numeric"
      ],
      "metadata": {
        "colab": {
          "base_uri": "https://localhost:8080/"
        },
        "id": "L_jffIfIKRom",
        "outputId": "1db43863-2fe6-4852-c790-0dd5dfc43788"
      },
      "execution_count": 205,
      "outputs": [
        {
          "output_type": "execute_result",
          "data": {
            "text/plain": [
              "array([[48010226.  ,    35000.  ,    35000.  ,       13.33,     1184.86,     9452.96],\n",
              "       [57693261.  ,    30000.  ,    30000.  ,       28.99,      938.57,     4679.7 ],\n",
              "       [59432726.  ,    15000.  ,    15000.  ,       28.99,      494.86,     1969.83],\n",
              "       ...,\n",
              "       [50415990.  ,    10000.  ,    10000.  ,       28.99,     1372.97,     2185.64],\n",
              "       [46154151.  ,    35000.  ,    10000.  ,       16.55,      354.3 ,     3199.4 ],\n",
              "       [66055249.  ,    10000.  ,    10000.  ,       28.99,      309.97,      301.9 ]])"
            ]
          },
          "metadata": {},
          "execution_count": 205
        }
      ]
    },
    {
      "cell_type": "markdown",
      "source": [
        "##**Currency change**"
      ],
      "metadata": {
        "id": "AdxNFCHkLBoE"
      }
    },
    {
      "cell_type": "markdown",
      "source": [
        "**The exchange rate**"
      ],
      "metadata": {
        "id": "kWDMd26ALGfU"
      }
    },
    {
      "cell_type": "code",
      "source": [
        "EUR_USD = np.genfromtxt(\"EUR-USD.csv\", delimiter = ',', autostrip = True, skip_header = 1, usecols = 3)\n",
        "EUR_USD"
      ],
      "metadata": {
        "colab": {
          "base_uri": "https://localhost:8080/"
        },
        "id": "RzxomkcVLGCc",
        "outputId": "59806d1c-e5f6-44db-cef5-7f5cad5c3d8e"
      },
      "execution_count": 206,
      "outputs": [
        {
          "output_type": "execute_result",
          "data": {
            "text/plain": [
              "array([1.13, 1.12, 1.08, 1.11, 1.1 , 1.12, 1.09, 1.13, 1.13, 1.1 , 1.06, 1.09])"
            ]
          },
          "metadata": {},
          "execution_count": 206
        }
      ]
    },
    {
      "cell_type": "code",
      "source": [
        "header_string"
      ],
      "metadata": {
        "colab": {
          "base_uri": "https://localhost:8080/"
        },
        "id": "QdYcGu7GWh34",
        "outputId": "69528161-dab2-4f35-ffea-2dfade229006"
      },
      "execution_count": 207,
      "outputs": [
        {
          "output_type": "execute_result",
          "data": {
            "text/plain": [
              "array(['Issue_date', 'loan_status', 'term_months', 'grade', 'sub_grade', 'verification_status',\n",
              "       'url', 'addr_state'], dtype='<U19')"
            ]
          },
          "metadata": {},
          "execution_count": 207
        }
      ]
    },
    {
      "cell_type": "code",
      "source": [
        "data_string[:,0]"
      ],
      "metadata": {
        "colab": {
          "base_uri": "https://localhost:8080/"
        },
        "id": "vLRcmh30WkxX",
        "outputId": "054d2b69-898c-42cd-de40-69ff7812fdaf"
      },
      "execution_count": 208,
      "outputs": [
        {
          "output_type": "execute_result",
          "data": {
            "text/plain": [
              "array([ 5,  0,  9, ...,  6,  4, 12])"
            ]
          },
          "metadata": {},
          "execution_count": 208
        }
      ]
    },
    {
      "cell_type": "code",
      "source": [
        "exchange_rate = data_string[:,0]\n",
        "\n",
        "for i in range(1,13):\n",
        "  exchange_rate = np.where(exchange_rate==i,\n",
        "                           EUR_USD[i-1],\n",
        "                           exchange_rate)\n",
        "exchange_rate\n"
      ],
      "metadata": {
        "colab": {
          "base_uri": "https://localhost:8080/"
        },
        "id": "GOcbdQYfWq-r",
        "outputId": "201a5072-5027-4767-bfba-b2025c96add3"
      },
      "execution_count": 209,
      "outputs": [
        {
          "output_type": "execute_result",
          "data": {
            "text/plain": [
              "array([1.1 , 0.  , 1.13, ..., 1.12, 1.11, 1.09])"
            ]
          },
          "metadata": {},
          "execution_count": 209
        }
      ]
    },
    {
      "cell_type": "markdown",
      "source": [
        "Handling missing values   \n",
        "Missing value = 0"
      ],
      "metadata": {
        "id": "OKyT73CdXa5Q"
      }
    },
    {
      "cell_type": "code",
      "source": [
        "exchange_rate = np.where(exchange_rate==0,\n",
        "                           np.mean(EUR_USD),\n",
        "                           exchange_rate)\n",
        "exchange_rate"
      ],
      "metadata": {
        "colab": {
          "base_uri": "https://localhost:8080/"
        },
        "id": "k1VgtUP7XaXf",
        "outputId": "eb0d919c-2aad-4b13-f0e7-a9028f24d5be"
      },
      "execution_count": 210,
      "outputs": [
        {
          "output_type": "execute_result",
          "data": {
            "text/plain": [
              "array([1.1 , 1.11, 1.13, ..., 1.12, 1.11, 1.09])"
            ]
          },
          "metadata": {},
          "execution_count": 210
        }
      ]
    },
    {
      "cell_type": "markdown",
      "source": [
        "**Add exchange rate to the dataset**"
      ],
      "metadata": {
        "id": "h1JpspjpYPGd"
      }
    },
    {
      "cell_type": "code",
      "source": [
        "exchange_rate.shape"
      ],
      "metadata": {
        "colab": {
          "base_uri": "https://localhost:8080/"
        },
        "id": "9BmOghu9YAYB",
        "outputId": "7eba13b4-6f44-41e0-8f19-992f70ecdc85"
      },
      "execution_count": 211,
      "outputs": [
        {
          "output_type": "execute_result",
          "data": {
            "text/plain": [
              "(10000,)"
            ]
          },
          "metadata": {},
          "execution_count": 211
        }
      ]
    },
    {
      "cell_type": "code",
      "source": [
        "data_numeric.shape"
      ],
      "metadata": {
        "colab": {
          "base_uri": "https://localhost:8080/"
        },
        "id": "ZF-iIT_rYKNI",
        "outputId": "ff6ad281-00b0-44b5-ec85-a1f970e5f81b"
      },
      "execution_count": 212,
      "outputs": [
        {
          "output_type": "execute_result",
          "data": {
            "text/plain": [
              "(10000, 6)"
            ]
          },
          "metadata": {},
          "execution_count": 212
        }
      ]
    },
    {
      "cell_type": "code",
      "source": [
        "exchange_rate = np.reshape(exchange_rate, (10000,1))\n",
        "exchange_rate"
      ],
      "metadata": {
        "colab": {
          "base_uri": "https://localhost:8080/"
        },
        "id": "G7cMa8j9YepP",
        "outputId": "442b63ff-8aa2-415c-e29b-543e36adef22"
      },
      "execution_count": 213,
      "outputs": [
        {
          "output_type": "execute_result",
          "data": {
            "text/plain": [
              "array([[1.1 ],\n",
              "       [1.11],\n",
              "       [1.13],\n",
              "       ...,\n",
              "       [1.12],\n",
              "       [1.11],\n",
              "       [1.09]])"
            ]
          },
          "metadata": {},
          "execution_count": 213
        }
      ]
    },
    {
      "cell_type": "code",
      "source": [
        "data_numeric = np.hstack((data_numeric, exchange_rate))\n"
      ],
      "metadata": {
        "id": "A6VtGQ2gYrqH"
      },
      "execution_count": 214,
      "outputs": []
    },
    {
      "cell_type": "code",
      "source": [
        "header_numeric"
      ],
      "metadata": {
        "colab": {
          "base_uri": "https://localhost:8080/"
        },
        "id": "Su5viWnrafD_",
        "outputId": "97c21542-a4a1-4b19-ac77-5baa2455157b"
      },
      "execution_count": 215,
      "outputs": [
        {
          "output_type": "execute_result",
          "data": {
            "text/plain": [
              "array(['id', 'loan_amnt', 'funded_amnt', 'int_rate', 'installment', 'total_pymnt'], dtype='<U19')"
            ]
          },
          "metadata": {},
          "execution_count": 215
        }
      ]
    },
    {
      "cell_type": "code",
      "source": [
        "header_numeric = np.concatenate((header_numeric, np.array(['exchange_rate'])))\n",
        "header_numeric"
      ],
      "metadata": {
        "colab": {
          "base_uri": "https://localhost:8080/"
        },
        "id": "pkHuHQS3aMS1",
        "outputId": "dd2353a2-73aa-4ff7-9d18-8079409a81d6"
      },
      "execution_count": 216,
      "outputs": [
        {
          "output_type": "execute_result",
          "data": {
            "text/plain": [
              "array(['id', 'loan_amnt', 'funded_amnt', 'int_rate', 'installment', 'total_pymnt', 'exchange_rate'],\n",
              "      dtype='<U19')"
            ]
          },
          "metadata": {},
          "execution_count": 216
        }
      ]
    },
    {
      "cell_type": "markdown",
      "source": [
        "**From USD TO EUR**"
      ],
      "metadata": {
        "id": "f-f5blgKa8Xk"
      }
    },
    {
      "cell_type": "code",
      "source": [
        "columns_dollar = np.array([1,2,4,5])\n",
        "#'loan_amnt'\n",
        "#'funded_amnt'\n",
        "#'installment'\n",
        "#'total_pymnt'"
      ],
      "metadata": {
        "id": "fLKHq9qsbCAy"
      },
      "execution_count": 217,
      "outputs": []
    },
    {
      "cell_type": "code",
      "source": [
        "data_numeric[:,columns_dollar]"
      ],
      "metadata": {
        "colab": {
          "base_uri": "https://localhost:8080/"
        },
        "id": "PAE7scAPiJ2c",
        "outputId": "b7077377-d3f4-473e-991c-57cbf4d40b23"
      },
      "execution_count": 218,
      "outputs": [
        {
          "output_type": "execute_result",
          "data": {
            "text/plain": [
              "array([[35000.  , 35000.  ,  1184.86,  9452.96],\n",
              "       [30000.  , 30000.  ,   938.57,  4679.7 ],\n",
              "       [15000.  , 15000.  ,   494.86,  1969.83],\n",
              "       ...,\n",
              "       [10000.  , 10000.  ,  1372.97,  2185.64],\n",
              "       [35000.  , 10000.  ,   354.3 ,  3199.4 ],\n",
              "       [10000.  , 10000.  ,   309.97,   301.9 ]])"
            ]
          },
          "metadata": {},
          "execution_count": 218
        }
      ]
    },
    {
      "cell_type": "code",
      "source": [
        "header_numeric"
      ],
      "metadata": {
        "colab": {
          "base_uri": "https://localhost:8080/"
        },
        "id": "KU815ljjkte7",
        "outputId": "d548588d-44e7-4419-a767-1ce6c4e2f5a8"
      },
      "execution_count": 219,
      "outputs": [
        {
          "output_type": "execute_result",
          "data": {
            "text/plain": [
              "array(['id', 'loan_amnt', 'funded_amnt', 'int_rate', 'installment', 'total_pymnt', 'exchange_rate'],\n",
              "      dtype='<U19')"
            ]
          },
          "metadata": {},
          "execution_count": 219
        }
      ]
    },
    {
      "cell_type": "code",
      "source": [
        "data_numeric.shape"
      ],
      "metadata": {
        "colab": {
          "base_uri": "https://localhost:8080/"
        },
        "id": "rj3IbR6KmBiY",
        "outputId": "a9e3f48d-0fa9-4d35-bad9-e6d33840e6d7"
      },
      "execution_count": 220,
      "outputs": [
        {
          "output_type": "execute_result",
          "data": {
            "text/plain": [
              "(10000, 7)"
            ]
          },
          "metadata": {},
          "execution_count": 220
        }
      ]
    },
    {
      "cell_type": "code",
      "source": [
        "for i in columns_dollar:\n",
        "    data_numeric = np.hstack((data_numeric, np.reshape(data_numeric[:,i] / data_numeric[:,6], (10000,1))))"
      ],
      "metadata": {
        "id": "QtFNygxwih9H"
      },
      "execution_count": 221,
      "outputs": []
    },
    {
      "cell_type": "code",
      "source": [
        "data_numeric.shape"
      ],
      "metadata": {
        "colab": {
          "base_uri": "https://localhost:8080/"
        },
        "id": "hcLWWuH5junr",
        "outputId": "e4bb71d7-86ae-4928-b887-b14962966f3a"
      },
      "execution_count": 222,
      "outputs": [
        {
          "output_type": "execute_result",
          "data": {
            "text/plain": [
              "(10000, 11)"
            ]
          },
          "metadata": {},
          "execution_count": 222
        }
      ]
    },
    {
      "cell_type": "code",
      "source": [
        "data_numeric[:,6]"
      ],
      "metadata": {
        "colab": {
          "base_uri": "https://localhost:8080/"
        },
        "id": "zoh_LSfokaex",
        "outputId": "90f759c1-90d3-4b4e-83c3-0977dbf82a6f"
      },
      "execution_count": 223,
      "outputs": [
        {
          "output_type": "execute_result",
          "data": {
            "text/plain": [
              "array([1.1 , 1.11, 1.13, ..., 1.12, 1.11, 1.09])"
            ]
          },
          "metadata": {},
          "execution_count": 223
        }
      ]
    },
    {
      "cell_type": "markdown",
      "source": [
        "**Expanding the header**"
      ],
      "metadata": {
        "id": "0sutprB5mgey"
      }
    },
    {
      "cell_type": "code",
      "source": [
        "header_additional = np.array([column_name + '_EUR' for column_name in header_numeric[columns_dollar]])\n",
        "header_additional"
      ],
      "metadata": {
        "colab": {
          "base_uri": "https://localhost:8080/"
        },
        "id": "sUclwa2DmgKY",
        "outputId": "6180a707-e8e9-4244-ac34-1832ae242074"
      },
      "execution_count": 224,
      "outputs": [
        {
          "output_type": "execute_result",
          "data": {
            "text/plain": [
              "array(['loan_amnt_EUR', 'funded_amnt_EUR', 'installment_EUR', 'total_pymnt_EUR'], dtype='<U15')"
            ]
          },
          "metadata": {},
          "execution_count": 224
        }
      ]
    },
    {
      "cell_type": "code",
      "source": [
        "header_numeric = np.concatenate((header_numeric,header_additional))"
      ],
      "metadata": {
        "id": "Mk7vg7h3m9SM"
      },
      "execution_count": 225,
      "outputs": []
    },
    {
      "cell_type": "markdown",
      "source": [
        "**Rename dollars column**"
      ],
      "metadata": {
        "id": "dD7LqpKsnXFx"
      }
    },
    {
      "cell_type": "code",
      "source": [
        "header_numeric[columns_dollar] = np.array([column_name + '_USD' for column_name in header_numeric[columns_dollar]])\n",
        "header_numeric"
      ],
      "metadata": {
        "colab": {
          "base_uri": "https://localhost:8080/"
        },
        "id": "-RHzgkHWnaJ-",
        "outputId": "18308ba5-2e86-4cfd-a6b6-c16270b52675"
      },
      "execution_count": 226,
      "outputs": [
        {
          "output_type": "execute_result",
          "data": {
            "text/plain": [
              "array(['id', 'loan_amnt_USD', 'funded_amnt_USD', 'int_rate', 'installment_USD', 'total_pymnt_USD',\n",
              "       'exchange_rate', 'loan_amnt_EUR', 'funded_amnt_EUR', 'installment_EUR', 'total_pymnt_EUR'],\n",
              "      dtype='<U19')"
            ]
          },
          "metadata": {},
          "execution_count": 226
        }
      ]
    },
    {
      "cell_type": "markdown",
      "source": [
        "**Reorders the columns**"
      ],
      "metadata": {
        "id": "b1e-JIqjnvk-"
      }
    },
    {
      "cell_type": "code",
      "source": [
        "columns_index_order = [0,1,7,2,8,3,4,9,5,10,6]"
      ],
      "metadata": {
        "id": "OzjNa1ojnytX"
      },
      "execution_count": 227,
      "outputs": []
    },
    {
      "cell_type": "code",
      "source": [
        "header_numeric = header_numeric[columns_index_order]"
      ],
      "metadata": {
        "id": "_JLOSYSlnzpy"
      },
      "execution_count": 228,
      "outputs": []
    },
    {
      "cell_type": "code",
      "source": [
        "data_numeric"
      ],
      "metadata": {
        "colab": {
          "base_uri": "https://localhost:8080/"
        },
        "id": "T88-hyQwoCyd",
        "outputId": "cde16d3c-f7bf-4907-e360-3aea0e3fac09"
      },
      "execution_count": 229,
      "outputs": [
        {
          "output_type": "execute_result",
          "data": {
            "text/plain": [
              "array([[48010226.  ,    35000.  ,    35000.  , ...,    31933.3 ,     1081.04,     8624.69],\n",
              "       [57693261.  ,    30000.  ,    30000.  , ...,    27132.46,      848.86,     4232.39],\n",
              "       [59432726.  ,    15000.  ,    15000.  , ...,    13326.3 ,      439.64,     1750.04],\n",
              "       ...,\n",
              "       [50415990.  ,    10000.  ,    10000.  , ...,     8910.3 ,     1223.36,     1947.47],\n",
              "       [46154151.  ,    35000.  ,    10000.  , ...,     8997.4 ,      318.78,     2878.63],\n",
              "       [66055249.  ,    10000.  ,    10000.  , ...,     9145.8 ,      283.49,      276.11]])"
            ]
          },
          "metadata": {},
          "execution_count": 229
        }
      ]
    },
    {
      "cell_type": "code",
      "source": [
        "data_numeric = data_numeric[:,columns_index_order]"
      ],
      "metadata": {
        "id": "23tfJJptoGjZ"
      },
      "execution_count": 230,
      "outputs": []
    },
    {
      "cell_type": "markdown",
      "source": [
        "##**Interest Rate**"
      ],
      "metadata": {
        "id": "BkvpkguFoQ2G"
      }
    },
    {
      "cell_type": "code",
      "source": [
        "header_numeric"
      ],
      "metadata": {
        "colab": {
          "base_uri": "https://localhost:8080/"
        },
        "id": "MdxLOlBooQI4",
        "outputId": "ea3c45ae-a5e6-4f0b-db52-c1708e8a8788"
      },
      "execution_count": 231,
      "outputs": [
        {
          "output_type": "execute_result",
          "data": {
            "text/plain": [
              "array(['id', 'loan_amnt_USD', 'loan_amnt_EUR', 'funded_amnt_USD', 'funded_amnt_EUR', 'int_rate',\n",
              "       'installment_USD', 'installment_EUR', 'total_pymnt_USD', 'total_pymnt_EUR', 'exchange_rate'],\n",
              "      dtype='<U19')"
            ]
          },
          "metadata": {},
          "execution_count": 231
        }
      ]
    },
    {
      "cell_type": "code",
      "source": [
        "data_numeric[:,5]"
      ],
      "metadata": {
        "colab": {
          "base_uri": "https://localhost:8080/"
        },
        "id": "9jSULJuCoern",
        "outputId": "612911bc-c2f9-4470-9919-a51c909c4f93"
      },
      "execution_count": 232,
      "outputs": [
        {
          "output_type": "execute_result",
          "data": {
            "text/plain": [
              "array([13.33, 28.99, 28.99, ..., 28.99, 16.55, 28.99])"
            ]
          },
          "metadata": {},
          "execution_count": 232
        }
      ]
    },
    {
      "cell_type": "code",
      "source": [
        "data_numeric[:,5] = data_numeric[:,5]/100"
      ],
      "metadata": {
        "id": "Ig-gJIDUo3Zu"
      },
      "execution_count": 233,
      "outputs": []
    },
    {
      "cell_type": "code",
      "source": [
        "data_numeric[:,5]"
      ],
      "metadata": {
        "colab": {
          "base_uri": "https://localhost:8080/"
        },
        "id": "diirudvvo6PJ",
        "outputId": "011e5df5-5dba-4d87-d0c9-90f6ffcdb74e"
      },
      "execution_count": 234,
      "outputs": [
        {
          "output_type": "execute_result",
          "data": {
            "text/plain": [
              "array([0.13, 0.29, 0.29, ..., 0.29, 0.17, 0.29])"
            ]
          },
          "metadata": {},
          "execution_count": 234
        }
      ]
    },
    {
      "cell_type": "markdown",
      "source": [
        "##**Checkpoint 2: Numeric**"
      ],
      "metadata": {
        "id": "AzJRUGNNpJgf"
      }
    },
    {
      "cell_type": "code",
      "source": [
        "checkpoint_numeric = checkpoint(\"Checkpoint-numeric\", header_numeric, data_numeric)"
      ],
      "metadata": {
        "id": "gyNRJUTHpGB2"
      },
      "execution_count": 235,
      "outputs": []
    },
    {
      "cell_type": "code",
      "source": [
        "checkpoint_numeric[\"header\"]"
      ],
      "metadata": {
        "colab": {
          "base_uri": "https://localhost:8080/"
        },
        "id": "25namoJqpIBo",
        "outputId": "c6ed8e34-8324-469e-b313-a1ad87026ebc"
      },
      "execution_count": 236,
      "outputs": [
        {
          "output_type": "execute_result",
          "data": {
            "text/plain": [
              "array(['id', 'loan_amnt_USD', 'loan_amnt_EUR', 'funded_amnt_USD', 'funded_amnt_EUR', 'int_rate',\n",
              "       'installment_USD', 'installment_EUR', 'total_pymnt_USD', 'total_pymnt_EUR', 'exchange_rate'],\n",
              "      dtype='<U19')"
            ]
          },
          "metadata": {},
          "execution_count": 236
        }
      ]
    },
    {
      "cell_type": "code",
      "source": [
        "checkpoint_numeric[\"data\"]"
      ],
      "metadata": {
        "colab": {
          "base_uri": "https://localhost:8080/"
        },
        "id": "bd_wQnfspgZg",
        "outputId": "1c82dc27-7a21-468a-d5ee-b600c4b05ded"
      },
      "execution_count": 237,
      "outputs": [
        {
          "output_type": "execute_result",
          "data": {
            "text/plain": [
              "array([[48010226.  ,    35000.  ,    31933.3 , ...,     9452.96,     8624.69,        1.1 ],\n",
              "       [57693261.  ,    30000.  ,    27132.46, ...,     4679.7 ,     4232.39,        1.11],\n",
              "       [59432726.  ,    15000.  ,    13326.3 , ...,     1969.83,     1750.04,        1.13],\n",
              "       ...,\n",
              "       [50415990.  ,    10000.  ,     8910.3 , ...,     2185.64,     1947.47,        1.12],\n",
              "       [46154151.  ,    35000.  ,    31490.9 , ...,     3199.4 ,     2878.63,        1.11],\n",
              "       [66055249.  ,    10000.  ,     9145.8 , ...,      301.9 ,      276.11,        1.09]])"
            ]
          },
          "metadata": {},
          "execution_count": 237
        }
      ]
    },
    {
      "cell_type": "markdown",
      "source": [
        "##**Creating the \"Complete\" Dataset**"
      ],
      "metadata": {
        "id": "VFSKtly0po56"
      }
    },
    {
      "cell_type": "code",
      "source": [
        "checkpoint_Strings['data'].shape"
      ],
      "metadata": {
        "colab": {
          "base_uri": "https://localhost:8080/"
        },
        "id": "XNQh877zpr2_",
        "outputId": "9659b51a-d66f-4ee2-ce3e-5d0ecec781c2"
      },
      "execution_count": 238,
      "outputs": [
        {
          "output_type": "execute_result",
          "data": {
            "text/plain": [
              "(10000, 6)"
            ]
          },
          "metadata": {},
          "execution_count": 238
        }
      ]
    },
    {
      "cell_type": "code",
      "source": [
        "checkpoint_numeric[\"data\"].shape"
      ],
      "metadata": {
        "colab": {
          "base_uri": "https://localhost:8080/"
        },
        "id": "fRo13uv6py6j",
        "outputId": "8979071b-5e31-476e-cc3f-9620f91aa416"
      },
      "execution_count": 239,
      "outputs": [
        {
          "output_type": "execute_result",
          "data": {
            "text/plain": [
              "(10000, 11)"
            ]
          },
          "metadata": {},
          "execution_count": 239
        }
      ]
    },
    {
      "cell_type": "code",
      "source": [
        "loan_data = np.hstack((checkpoint_numeric['data'], checkpoint_Strings['data']))"
      ],
      "metadata": {
        "id": "xLhVxqX0p5a6"
      },
      "execution_count": 240,
      "outputs": []
    },
    {
      "cell_type": "code",
      "source": [
        "loan_data"
      ],
      "metadata": {
        "colab": {
          "base_uri": "https://localhost:8080/"
        },
        "id": "9R_psbRjqAtL",
        "outputId": "7477da62-e80c-4b66-d537-219fb8584685"
      },
      "execution_count": 241,
      "outputs": [
        {
          "output_type": "execute_result",
          "data": {
            "text/plain": [
              "array([[48010226.  ,    35000.  ,    31933.3 , ...,       13.  ,        1.  ,        1.  ],\n",
              "       [57693261.  ,    30000.  ,    27132.46, ...,        5.  ,        1.  ,        4.  ],\n",
              "       [59432726.  ,    15000.  ,    13326.3 , ...,       10.  ,        1.  ,        4.  ],\n",
              "       ...,\n",
              "       [50415990.  ,    10000.  ,     8910.3 , ...,        5.  ,        1.  ,        1.  ],\n",
              "       [46154151.  ,    35000.  ,    31490.9 , ...,       17.  ,        1.  ,        3.  ],\n",
              "       [66055249.  ,    10000.  ,     9145.8 , ...,        4.  ,        0.  ,        3.  ]])"
            ]
          },
          "metadata": {},
          "execution_count": 241
        }
      ]
    },
    {
      "cell_type": "code",
      "source": [
        "np.isnan(loan_data).sum()"
      ],
      "metadata": {
        "colab": {
          "base_uri": "https://localhost:8080/"
        },
        "id": "i9nL7InbqFbJ",
        "outputId": "a74f8909-5f8b-4bf2-a5fe-57d2ab08577b"
      },
      "execution_count": 242,
      "outputs": [
        {
          "output_type": "execute_result",
          "data": {
            "text/plain": [
              "0"
            ]
          },
          "metadata": {},
          "execution_count": 242
        }
      ]
    },
    {
      "cell_type": "code",
      "source": [
        "header_full = np.concatenate((checkpoint_numeric['header'], checkpoint_Strings['header']))\n",
        "header_full"
      ],
      "metadata": {
        "colab": {
          "base_uri": "https://localhost:8080/"
        },
        "id": "WBuP28-1qpR3",
        "outputId": "96875333-fd20-495a-b46f-0b349774f8f3"
      },
      "execution_count": 243,
      "outputs": [
        {
          "output_type": "execute_result",
          "data": {
            "text/plain": [
              "array(['id', 'loan_amnt_USD', 'loan_amnt_EUR', 'funded_amnt_USD', 'funded_amnt_EUR', 'int_rate',\n",
              "       'installment_USD', 'installment_EUR', 'total_pymnt_USD', 'total_pymnt_EUR', 'exchange_rate',\n",
              "       'Issue_date', 'loan_status', 'term_months', 'sub_grade', 'verification_status',\n",
              "       'State_Address'], dtype='<U19')"
            ]
          },
          "metadata": {},
          "execution_count": 243
        }
      ]
    },
    {
      "cell_type": "markdown",
      "source": [
        "## **Sorting the New Dataset**"
      ],
      "metadata": {
        "id": "vn8KDfS8qxsh"
      }
    },
    {
      "cell_type": "code",
      "source": [
        "loan_data = loan_data[np.argsort(loan_data[:,0])]"
      ],
      "metadata": {
        "id": "HJSy2aVXqzHE"
      },
      "execution_count": 244,
      "outputs": []
    },
    {
      "cell_type": "code",
      "source": [
        "loan_data"
      ],
      "metadata": {
        "colab": {
          "base_uri": "https://localhost:8080/"
        },
        "id": "EqU6Q5-rq664",
        "outputId": "d4005cf8-8830-4e8c-bcf8-104e7e095b36"
      },
      "execution_count": 245,
      "outputs": [
        {
          "output_type": "execute_result",
          "data": {
            "text/plain": [
              "array([[  373332.  ,     9950.  ,     9038.08, ...,       21.  ,        0.  ,        1.  ],\n",
              "       [  575239.  ,    12000.  ,    10900.2 , ...,       25.  ,        1.  ,        2.  ],\n",
              "       [  707689.  ,    10000.  ,     8924.3 , ...,       13.  ,        1.  ,        0.  ],\n",
              "       ...,\n",
              "       [68614880.  ,     5600.  ,     5121.65, ...,        8.  ,        1.  ,        1.  ],\n",
              "       [68615915.  ,     4000.  ,     3658.32, ...,       10.  ,        1.  ,        2.  ],\n",
              "       [68616519.  ,    21600.  ,    19754.93, ...,        3.  ,        0.  ,        2.  ]])"
            ]
          },
          "metadata": {},
          "execution_count": 245
        }
      ]
    },
    {
      "cell_type": "code",
      "source": [
        "np.argsort(loan_data[:,0])"
      ],
      "metadata": {
        "colab": {
          "base_uri": "https://localhost:8080/"
        },
        "id": "AitlMC-Zq91q",
        "outputId": "8bd35f86-7cc6-4d9e-a0a1-ccc8f1d59123"
      },
      "execution_count": 246,
      "outputs": [
        {
          "output_type": "execute_result",
          "data": {
            "text/plain": [
              "array([   0,    1,    2, ..., 9997, 9998, 9999])"
            ]
          },
          "metadata": {},
          "execution_count": 246
        }
      ]
    },
    {
      "cell_type": "markdown",
      "source": [
        "## **Storing the New Dataset**"
      ],
      "metadata": {
        "id": "nzOkzPSXrKc6"
      }
    },
    {
      "cell_type": "code",
      "source": [
        "loan_data = np.vstack((header_full, loan_data))"
      ],
      "metadata": {
        "id": "bB0Tm_CorOnj"
      },
      "execution_count": 247,
      "outputs": []
    },
    {
      "cell_type": "code",
      "source": [
        "np.savetxt(\"loan-data-preprocessed.csv\",\n",
        "           loan_data,\n",
        "           fmt = '%s',\n",
        "           delimiter = ',')"
      ],
      "metadata": {
        "id": "iksKQ9gYrVS9"
      },
      "execution_count": 248,
      "outputs": []
    }
  ]
}